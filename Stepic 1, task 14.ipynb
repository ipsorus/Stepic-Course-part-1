{
 "cells": [
  {
   "cell_type": "markdown",
   "metadata": {},
   "source": [
    "Напишите программу, которая считывает с клавиатуры два числа \\( a \\) и \\( b \\), считает и выводит на консоль среднее арифметическое всех чисел из отрезка \\( [a; b] \\), которые делятся на \\( 3 \\).\n",
    "\n",
    "В приведенном ниже примере среднее арифметическое считается для чисел на отрезке \\( [-5; 12] \\). Всего чисел, делящихся на \\( 3 \\), на этом отрезке \\( 6 \\): \\( -3, 0, 3, 6, 9, 12 \\). Их среднее арифметическое равно \\( 4.5 \\)\n",
    "\n",
    "На вход программе подаются интервалы, внутри которых всегда есть хотя бы одно число, которое делится на \\( 3 \\).﻿\n",
    "\n",
    "Sample Input:\n",
    "\n",
    "-5\n",
    "12\n",
    "Sample Output:\n",
    "\n",
    "4.5"
   ]
  },
  {
   "cell_type": "code",
   "execution_count": null,
   "metadata": {},
   "outputs": [],
   "source": [
    "a, b = [int(input()) for k in range(2)]\n",
    "s = 0\n",
    "d = 0\n",
    "for i in range (a, b + 1):\n",
    "    if i % 3 == 0:\n",
    "        s += i\n",
    "        d += 1\n",
    "print(s / d)"
   ]
  }
 ],
 "metadata": {
  "kernelspec": {
   "display_name": "Python 3",
   "language": "python",
   "name": "python3"
  },
  "language_info": {
   "codemirror_mode": {
    "name": "ipython",
    "version": 3
   },
   "file_extension": ".py",
   "mimetype": "text/x-python",
   "name": "python",
   "nbconvert_exporter": "python",
   "pygments_lexer": "ipython3",
   "version": "3.7.0"
  }
 },
 "nbformat": 4,
 "nbformat_minor": 2
}
