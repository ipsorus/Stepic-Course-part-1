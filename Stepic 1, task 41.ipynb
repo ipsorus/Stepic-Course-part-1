{
 "cells": [
  {
   "cell_type": "markdown",
   "metadata": {},
   "source": [
    "Дан файл с таблицей в формате TSV с информацией о росте школьников разных классов.\n",
    "\n",
    "Напишите программу, которая прочитает этот файл и подсчитает для каждого класса средний рост учащегося.\n",
    "\n",
    "Файл состоит из набора строк, каждая из которых представляет собой три поля:\n",
    "Класс Фамилия Рост\n",
    "\n",
    "Класс обозначается только числом. Буквенные модификаторы не используются. Номер класса может быть от 1 до 11 включительно. В фамилии нет пробелов, а в качестве роста используется натуральное число, но при подсчёте среднего требуется вычислить значение в виде вещественного числа.\n",
    "\n",
    "Выводить информацию о среднем росте следует в порядке возрастания номера класса (для классов с первого по одиннадцатый). Если про какой-то класс нет информации, необходимо вывести напротив него прочерк, например:\n",
    "\n",
    "Sample Input:\n",
    "\n",
    "6\tВяххи\t159\n",
    "11\tФедотов\t172\n",
    "7\tБондарев\t158\n",
    "6\tЧайкина\t153\n",
    "Sample Output:\n",
    "\n",
    "1 -\n",
    "2 -\n",
    "3 -\n",
    "4 -\n",
    "5 -\n",
    "6 156.0\n",
    "7 158.0\n",
    "8 -\n",
    "9 -\n",
    "10 -\n",
    "11 172.0"
   ]
  },
  {
   "cell_type": "code",
   "execution_count": null,
   "metadata": {},
   "outputs": [],
   "source": [
    "res = {i:[] for i in range(1, 12)}\n",
    "with open (r'C:\\Users\\loshkarev-vm\\Desktop\\dataset_3380_5.txt', 'r', encoding='utf-8') as growth:\n",
    "    for line in growth:\n",
    "        line = line.split()\n",
    "        res[int(line[0])].append(int(line[2]))\n",
    "    for k in res.keys():\n",
    "        s = 0\n",
    "        x = res[k]\n",
    "        srRost = 0\n",
    "        if x != []:\n",
    "            for i in range(len(x)):\n",
    "                s += x[i]\n",
    "            print(k, s / len(x))\n",
    "        else:\n",
    "            print(k, '-')"
   ]
  }
 ],
 "metadata": {
  "kernelspec": {
   "display_name": "Python 3",
   "language": "python",
   "name": "python3"
  },
  "language_info": {
   "codemirror_mode": {
    "name": "ipython",
    "version": 3
   },
   "file_extension": ".py",
   "mimetype": "text/x-python",
   "name": "python",
   "nbconvert_exporter": "python",
   "pygments_lexer": "ipython3",
   "version": "3.7.0"
  }
 },
 "nbformat": 4,
 "nbformat_minor": 2
}
