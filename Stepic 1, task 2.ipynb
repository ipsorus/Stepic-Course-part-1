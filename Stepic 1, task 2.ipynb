{
 "cells": [
  {
   "cell_type": "markdown",
   "metadata": {},
   "source": [
    "Требуется определить, является ли данный год високосным.\n",
    "\n",
    "Напомним, что високосными годами считаются те годы, порядковый номер которых либо кратен 4, но при этом не кратен 100, либо кратен 400 (например, 2000-й год являлся високосным, а 2100-й будет невисокосным годом). \n",
    "\n",
    "Программа должна корректно работать на числах 1900≤n≤3000.\n",
    "\n",
    "Выведите \"Високосный\" в случае, если считанный год является високосным и \"Обычный\" в обратном случае (не забывайте проверять регистр выводимых программой символов).\n",
    "\n",
    "Sample Input 1:\n",
    "\n",
    "2100\n",
    "Sample Output 1:\n",
    "\n",
    "Обычный\n",
    "Sample Input 2:\n",
    "\n",
    "2000\n",
    "Sample Output 2:\n",
    "\n",
    "Високосный"
   ]
  },
  {
   "cell_type": "code",
   "execution_count": null,
   "metadata": {},
   "outputs": [],
   "source": [
    "y = int(input())\n",
    "if y % 4 == 0 and y % 100 != 0 or y % 400 == 0:\n",
    "    print('Високосный')\n",
    "else:\n",
    "    print ('Обычный')"
   ]
  }
 ],
 "metadata": {
  "kernelspec": {
   "display_name": "Python 3",
   "language": "python",
   "name": "python3"
  },
  "language_info": {
   "codemirror_mode": {
    "name": "ipython",
    "version": 3
   },
   "file_extension": ".py",
   "mimetype": "text/x-python",
   "name": "python",
   "nbconvert_exporter": "python",
   "pygments_lexer": "ipython3",
   "version": "3.7.0"
  }
 },
 "nbformat": 4,
 "nbformat_minor": 2
}
