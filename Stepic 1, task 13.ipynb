{
 "cells": [
  {
   "cell_type": "markdown",
   "metadata": {},
   "source": [
    "Когда Павел учился в школе, он запоминал таблицу умножения прямоугольными блоками. Для тренировок ему бы очень пригодилась программа, которая показывала бы блок таблицы умножения.\n",
    "\n",
    "Напишите программу, на вход которой даются четыре числа a, b, c и d, каждое в своей строке. Программа должна вывести фрагмент таблицы умножения для всех чисел отрезка [a;b] на все числа отрезка [c;d].\n",
    "\n",
    "Числа a, b, c и d являются натуральными и не превосходят 10, a≤b, c≤d.\n",
    "\n",
    "Следуйте формату вывода из примера, для разделения элементов внутри строки используйте '\\t' — символ табуляции. Заметьте, что левым столбцом и верхней строкой выводятся сами числа из заданных отрезков — заголовочные столбец и строка таблицы.﻿\n",
    "\n",
    "Sample Input 1:\n",
    "\n",
    "7\n",
    "10\n",
    "5\n",
    "6\n",
    "Sample Output 1:\n",
    "\n",
    "\t5\t6\n",
    "7\t35\t42\n",
    "8\t40\t48\n",
    "9\t45\t54\n",
    "10\t50\t60\n",
    "Sample Input 2:\n",
    "\n",
    "5\n",
    "5\n",
    "6\n",
    "6\n",
    "Sample Output 2:\n",
    "\n",
    "\t6\n",
    "5\t30\n",
    "Sample Input 3:\n",
    "\n",
    "1\n",
    "3\n",
    "2\n",
    "4\n",
    "Sample Output 3:\n",
    "\n",
    "\t2\t3\t4\n",
    "1\t2\t3\t4\n",
    "2\t4\t6\t8\n",
    "3\t6\t9\t12"
   ]
  },
  {
   "cell_type": "code",
   "execution_count": null,
   "metadata": {},
   "outputs": [],
   "source": [
    "a, b, c, d = [int(input()) for k in range(4)]\n",
    "if a <= b and c <= d and a <= 10 and c <= 10:\n",
    "    for j in range(c, d + 1):\n",
    "        print('\\t', j, end='')\n",
    "    print()\n",
    "    for i in range(a, b + 1):\n",
    "        print(i, end='')\n",
    "        for j in range(c, d + 1):\n",
    "            print('\\t', i * j, end='')\n",
    "        print()"
   ]
  }
 ],
 "metadata": {
  "kernelspec": {
   "display_name": "Python 3",
   "language": "python",
   "name": "python3"
  },
  "language_info": {
   "codemirror_mode": {
    "name": "ipython",
    "version": 3
   },
   "file_extension": ".py",
   "mimetype": "text/x-python",
   "name": "python",
   "nbconvert_exporter": "python",
   "pygments_lexer": "ipython3",
   "version": "3.7.0"
  }
 },
 "nbformat": 4,
 "nbformat_minor": 2
}
