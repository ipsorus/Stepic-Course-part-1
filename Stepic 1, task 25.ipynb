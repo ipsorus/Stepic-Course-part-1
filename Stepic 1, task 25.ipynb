{
 "cells": [
  {
   "cell_type": "markdown",
   "metadata": {},
   "source": [
    "Напишите функцию f(x), которая возвращает значение следующей функции, определённой на всей числовой прямой:\n",
    "\n",
    "f(x)=⎧⎩⎨⎪⎪1−(x+2)2,−x2,(x−2)2+1,при x≤−2при −2<x≤2при 2<x\n",
    "Требуется реализовать только функцию, решение не должно осуществлять операций ввода-вывода.\n",
    "\n",
    "Sample Input 1:\n",
    "\n",
    "4.5\n",
    "Sample Output 1:\n",
    "\n",
    "7.25\n",
    "Sample Input 2:\n",
    "\n",
    "-4.5\n",
    "Sample Output 2:\n",
    "\n",
    "-5.25\n",
    "Sample Input 3:\n",
    "\n",
    "1\n",
    "Sample Output 3:\n",
    "\n",
    "-0.5"
   ]
  },
  {
   "cell_type": "code",
   "execution_count": null,
   "metadata": {},
   "outputs": [],
   "source": [
    "def f(x):\n",
    "    if x <= -2:\n",
    "        res = 1 - ((x + 2)**2)\n",
    "    elif -2 < x <= 2:\n",
    "        res = -(x / 2)\n",
    "    elif x > 2:\n",
    "        res = ((x - 2)**2) + 1\n",
    "    return res"
   ]
  }
 ],
 "metadata": {
  "kernelspec": {
   "display_name": "Python 3",
   "language": "python",
   "name": "python3"
  },
  "language_info": {
   "codemirror_mode": {
    "name": "ipython",
    "version": 3
   },
   "file_extension": ".py",
   "mimetype": "text/x-python",
   "name": "python",
   "nbconvert_exporter": "python",
   "pygments_lexer": "ipython3",
   "version": "3.7.0"
  }
 },
 "nbformat": 4,
 "nbformat_minor": 2
}
