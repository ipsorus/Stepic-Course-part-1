{
 "cells": [
  {
   "cell_type": "markdown",
   "metadata": {},
   "source": [
    "Простейшая система проверки орфографии основана на использовании списка известных слов. Каждое слово в проверяемом тексте ищется в этом списке и, если такое слово не найдено, оно помечается, как ошибочное.\n",
    "\n",
    "Напишем подобную систему.\n",
    "\n",
    "Через стандартный ввод подаётся следующая структура: первой строкой — количество d записей в списке известных слов, после передаётся  d строк с одним словарным словом на строку, затем — количество l строк текста, после чего — l строк текста.\n",
    "\n",
    "Напишите программу, которая выводит слова из текста, которые не встречаются в словаре. Регистр слов не учитывается. Порядок вывода слов произвольный. Слова, не встречающиеся в словаре, не должны повторяться в выводе программы.\n",
    "\n",
    "﻿\n",
    "Sample Input:\n",
    "\n",
    "3\n",
    "a\n",
    "bb\n",
    "cCc\n",
    "2\n",
    "a bb aab aba ccc\n",
    "c bb aaa\n",
    "Sample Output:\n",
    "\n",
    "aab\n",
    "aba\n",
    "c\n",
    "aaa"
   ]
  },
  {
   "cell_type": "code",
   "execution_count": null,
   "metadata": {},
   "outputs": [],
   "source": [
    "slovar = []\n",
    "spisok = set()\n",
    "d = int(input())\n",
    "for i in range(d):\n",
    "    slovo = input().lower()\n",
    "    slovar.append(slovo)\n",
    "l = int(input())\n",
    "for j in range(l):\n",
    "    stroka = input().split()\n",
    "    for n in stroka:\n",
    "        if n.lower() not in slovar:            \n",
    "            spisok.add(n)\n",
    "for k in spisok:\n",
    "    print(k)"
   ]
  }
 ],
 "metadata": {
  "kernelspec": {
   "display_name": "Python 3",
   "language": "python",
   "name": "python3"
  },
  "language_info": {
   "codemirror_mode": {
    "name": "ipython",
    "version": 3
   },
   "file_extension": ".py",
   "mimetype": "text/x-python",
   "name": "python",
   "nbconvert_exporter": "python",
   "pygments_lexer": "ipython3",
   "version": "3.7.0"
  }
 },
 "nbformat": 4,
 "nbformat_minor": 2
}
