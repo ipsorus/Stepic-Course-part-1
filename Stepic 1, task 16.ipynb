{
 "cells": [
  {
   "cell_type": "markdown",
   "metadata": {},
   "source": [
    "Узнав, что ДНК не является случайной строкой, только что поступившие в Институт биоинформатики студенты группы информатиков предложили использовать алгоритм сжатия, который сжимает повторяющиеся символы в строке.\n",
    "\n",
    "Кодирование осуществляется следующим образом:\n",
    "s = 'aaaabbсaa' преобразуется в 'a4b2с1a2', то есть группы одинаковых символов исходной строки заменяются на этот символ и количество его повторений в этой позиции строки.\n",
    "\n",
    "Напишите программу, которая считывает строку, кодирует её предложенным алгоритмом и выводит закодированную последовательность на стандартный вывод. Кодирование должно учитывать регистр символов.\n",
    "\n",
    "Sample Input 1:\n",
    "\n",
    "aaaabbcaa\n",
    "Sample Output 1:\n",
    "\n",
    "a4b2c1a2\n",
    "Sample Input 2:\n",
    "\n",
    "abc\n",
    "Sample Output 2:\n",
    "\n",
    "a1b1c1"
   ]
  },
  {
   "cell_type": "code",
   "execution_count": null,
   "metadata": {},
   "outputs": [],
   "source": [
    "w = input()\n",
    "l = len(w)\n",
    "s = 1\n",
    "n = 0\n",
    "res = ''\n",
    "x = ''\n",
    "for i in range(l):\n",
    "    p = i + n\n",
    "    j = p + 1\n",
    "    s = 1\n",
    "    while j < l:\n",
    "        if w[p] == w[j]:\n",
    "            n += 1\n",
    "            s += 1\n",
    "            j += 1\n",
    "        else:\n",
    "            res = w[p] + str(s)\n",
    "            x += res\n",
    "            break\n",
    "    else:\n",
    "        res = w[p] + str(s)\n",
    "        x += res\n",
    "        break\n",
    "print(x)"
   ]
  }
 ],
 "metadata": {
  "kernelspec": {
   "display_name": "Python 3",
   "language": "python",
   "name": "python3"
  },
  "language_info": {
   "codemirror_mode": {
    "name": "ipython",
    "version": 3
   },
   "file_extension": ".py",
   "mimetype": "text/x-python",
   "name": "python",
   "nbconvert_exporter": "python",
   "pygments_lexer": "ipython3",
   "version": "3.7.0"
  }
 },
 "nbformat": 4,
 "nbformat_minor": 2
}
