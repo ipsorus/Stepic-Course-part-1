{
 "cells": [
  {
   "cell_type": "markdown",
   "metadata": {},
   "source": [
    "Напишите программу, на вход которой подаётся прямоугольная матрица в виде последовательности строк, заканчивающихся строкой, содержащей только строку \"end\" (без кавычек)\n",
    "\n",
    "Программа должна вывести матрицу того же размера, у которой каждый элемент в позиции i, j равен сумме элементов первой матрицы на позициях (i-1, j), (i+1, j), (i, j-1), (i, j+1). У крайних символов соседний элемент находится с противоположной стороны матрицы.\n",
    "\n",
    "В случае одной строки/столбца элемент сам себе является соседом по соответствующему направлению.\n",
    "\n",
    "Sample Input 1:\n",
    "\n",
    "9 5 3\n",
    "0 7 -1\n",
    "-5 2 9\n",
    "end\n",
    "Sample Output 1:\n",
    "\n",
    "3 21 22\n",
    "10 6 19\n",
    "20 16 -1\n",
    "Sample Input 2:\n",
    "\n",
    "1\n",
    "end\n",
    "Sample Output 2:\n",
    "\n",
    "4"
   ]
  },
  {
   "cell_type": "code",
   "execution_count": null,
   "metadata": {},
   "outputs": [],
   "source": [
    "x = 1\n",
    "b = []\n",
    "while x != 0:\n",
    "    a = input()\n",
    "    if a != 'end':\n",
    "        a_int = [int(i) for i in a.split()]\n",
    "        b.append(a_int)\n",
    "    else:\n",
    "        x = 0\n",
    "for i in range(len(b)):\n",
    "    k = 0\n",
    "    if i >= len(b) - 1:\n",
    "        k = i + 1\n",
    "    for j in range(len(a_int)):\n",
    "        z = 0\n",
    "        if j >= len(a_int) - 1:\n",
    "            z = j + 1\n",
    "        s = b[i - 1][j] + b[i + 1 - (k)][j] + b[i][j - 1] + b[i][j + 1 - (z)]\n",
    "        print(s, end=' ')\n",
    "        s = 0\n",
    "    print()"
   ]
  }
 ],
 "metadata": {
  "kernelspec": {
   "display_name": "Python 3",
   "language": "python",
   "name": "python3"
  },
  "language_info": {
   "codemirror_mode": {
    "name": "ipython",
    "version": 3
   },
   "file_extension": ".py",
   "mimetype": "text/x-python",
   "name": "python",
   "nbconvert_exporter": "python",
   "pygments_lexer": "ipython3",
   "version": "3.7.0"
  }
 },
 "nbformat": 4,
 "nbformat_minor": 2
}
