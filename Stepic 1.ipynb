{
 "cells": [
  {
   "cell_type": "code",
   "execution_count": 1,
   "metadata": {},
   "outputs": [
    {
     "data": {
      "text/plain": [
       "12345554321"
      ]
     },
     "execution_count": 1,
     "metadata": {},
     "output_type": "execute_result"
    }
   ],
   "source": [
    "11111*1111111"
   ]
  },
  {
   "cell_type": "code",
   "execution_count": null,
   "metadata": {},
   "outputs": [],
   "source": [
    "42/(4+2*(-2))"
   ]
  },
  {
   "cell_type": "code",
   "execution_count": 7,
   "metadata": {},
   "outputs": [
    {
     "data": {
      "text/plain": [
       "1.806477376560755e+46"
      ]
     },
     "execution_count": 7,
     "metadata": {},
     "output_type": "execute_result"
    }
   ],
   "source": [
    "2014.0**14"
   ]
  },
  {
   "cell_type": "code",
   "execution_count": 6,
   "metadata": {},
   "outputs": [
    {
     "data": {
      "text/plain": [
       "1234.5"
      ]
     },
     "execution_count": 6,
     "metadata": {},
     "output_type": "execute_result"
    }
   ],
   "source": [
    "1.2345e3"
   ]
  },
  {
   "cell_type": "code",
   "execution_count": 8,
   "metadata": {},
   "outputs": [
    {
     "data": {
      "text/plain": [
       "2.3333333333333335"
      ]
     },
     "execution_count": 8,
     "metadata": {},
     "output_type": "execute_result"
    }
   ],
   "source": [
    "7/3"
   ]
  },
  {
   "cell_type": "code",
   "execution_count": 10,
   "metadata": {},
   "outputs": [
    {
     "data": {
      "text/plain": [
       "-1"
      ]
     },
     "execution_count": 10,
     "metadata": {},
     "output_type": "execute_result"
    }
   ],
   "source": [
    "int(-1.6)"
   ]
  },
  {
   "cell_type": "code",
   "execution_count": 11,
   "metadata": {},
   "outputs": [
    {
     "data": {
      "text/plain": [
       "89"
      ]
     },
     "execution_count": 11,
     "metadata": {},
     "output_type": "execute_result"
    }
   ],
   "source": [
    "9**19 - int(float(9**19))"
   ]
  },
  {
   "cell_type": "code",
   "execution_count": 14,
   "metadata": {},
   "outputs": [
    {
     "data": {
      "text/plain": [
       "1350851717672992000"
      ]
     },
     "execution_count": 14,
     "metadata": {},
     "output_type": "execute_result"
    }
   ],
   "source": [
    "int(float(9**19))"
   ]
  },
  {
   "cell_type": "code",
   "execution_count": 24,
   "metadata": {},
   "outputs": [
    {
     "name": "stdout",
     "output_type": "stream",
     "text": [
      "7\n",
      "30\n",
      "450\n"
     ]
    }
   ],
   "source": [
    "X = int(input())\n",
    "Y = int(input())\n",
    "print (X*60 + Y)\n"
   ]
  },
  {
   "cell_type": "code",
   "execution_count": 35,
   "metadata": {},
   "outputs": [
    {
     "name": "stdout",
     "output_type": "stream",
     "text": [
      "480\n",
      "1\n",
      "2\n",
      "9\n",
      "10\n"
     ]
    }
   ],
   "source": [
    "X = int(input())\n",
    "H = int(input())\n",
    "M = int(input())\n",
    "s = X//60\n",
    "h = s + H\n",
    "m = \n",
    "print (X + H)\n",
    "print (X + M)"
   ]
  },
  {
   "cell_type": "code",
   "execution_count": 33,
   "metadata": {},
   "outputs": [
    {
     "data": {
      "text/plain": [
       "55"
      ]
     },
     "execution_count": 33,
     "metadata": {},
     "output_type": "execute_result"
    }
   ],
   "source": [
    "475%60"
   ]
  },
  {
   "cell_type": "code",
   "execution_count": 36,
   "metadata": {},
   "outputs": [
    {
     "data": {
      "text/plain": [
       "True"
      ]
     },
     "execution_count": 36,
     "metadata": {},
     "output_type": "execute_result"
    }
   ],
   "source": [
    "x = 5\n",
    "y = 10\n",
    "y > x * x or y >= 2 * x and x < y"
   ]
  },
  {
   "cell_type": "code",
   "execution_count": 37,
   "metadata": {},
   "outputs": [
    {
     "data": {
      "text/plain": [
       "False"
      ]
     },
     "execution_count": 37,
     "metadata": {},
     "output_type": "execute_result"
    }
   ],
   "source": [
    "a = True\n",
    "b = False\n",
    "a and b or not a and not b\n"
   ]
  },
  {
   "cell_type": "code",
   "execution_count": 6,
   "metadata": {},
   "outputs": [
    {
     "name": "stdout",
     "output_type": "stream",
     "text": [
      "7\n",
      "9\n",
      "2\n",
      "Недосып\n"
     ]
    }
   ],
   "source": [
    "A = int(input())\n",
    "B = int(input())\n",
    "H = int(input())\n",
    "if A <= B and H > B:\n",
    "    print (\"Пересып\")\n",
    "elif A <= B and H < A:\n",
    "    print(\"Недосып\")\n",
    "else:\n",
    "    print (\"Это нормально\")\n",
    "\n",
    "    "
   ]
  },
  {
   "cell_type": "code",
   "execution_count": 11,
   "metadata": {},
   "outputs": [
    {
     "name": "stdout",
     "output_type": "stream",
     "text": [
      "2100\n",
      "Обычный\n"
     ]
    }
   ],
   "source": [
    "y = int(input())\n",
    "if y % 4 == 0 and y % 100 != 0 or y % 400 == 0:\n",
    "    print('Високосный')\n",
    "else:\n",
    "    print ('Обычный')"
   ]
  },
  {
   "cell_type": "code",
   "execution_count": 16,
   "metadata": {},
   "outputs": [
    {
     "name": "stdout",
     "output_type": "stream",
     "text": [
      "5\n",
      "10\n",
      "/\n",
      "0.5\n"
     ]
    }
   ],
   "source": [
    "a=float(input())\n",
    "b=float(input())\n",
    "x=str(input())\n",
    "if b==0 and x==\"mod\": \n",
    "    print ('Деление на 0!')\n",
    "elif b==0 and x==\"/\": \n",
    "    print ('Деление на 0!')\n",
    "elif b==0 and x==\"div\": \n",
    "    print ('Деление на 0!')\n",
    "else:\n",
    "    if x =='+': print (a+b)\n",
    "    elif x =='-': print (a-b)\n",
    "    elif x =='/': print (a/b)\n",
    "    elif x =='*': print (a*b)\n",
    "    elif x =='mod': print (a%b)\n",
    "    elif x =='pow': print (a**b)\n",
    "    elif x =='div': print (a//b)"
   ]
  },
  {
   "cell_type": "code",
   "execution_count": 20,
   "metadata": {},
   "outputs": [
    {
     "name": "stdout",
     "output_type": "stream",
     "text": [
      "треугольник\n",
      "3\n",
      "4\n",
      "5\n",
      "6.0\n"
     ]
    }
   ],
   "source": [
    "pi=3.14\n",
    "f=input()\n",
    "if f=='треугольник':\n",
    "    a=int(input())\n",
    "    b=int(input())\n",
    "    c=int(input())\n",
    "    p=(a+b+c)/2\n",
    "    S=(p*(p-a)*(p-b)*(p-c))**0.5\n",
    "    print(float(S))\n",
    "elif f=='круг':\n",
    "    r=int(input())\n",
    "    print(float(pi*(r**2)))\n",
    "elif f==\"прямоугольник\":\n",
    "    a=int(input())\n",
    "    b=int(input())\n",
    "    print(float(a*b))"
   ]
  },
  {
   "cell_type": "code",
   "execution_count": 505,
   "metadata": {},
   "outputs": [
    {
     "name": "stdout",
     "output_type": "stream",
     "text": [
      "9\n",
      "9\n",
      "9\n",
      "9\n",
      "9\n",
      "9\n"
     ]
    }
   ],
   "source": [
    "a = int(input())\n",
    "b = int(input())\n",
    "c = int(input())\n",
    "\n",
    "if a >= b and a >= c:\n",
    "    if b >= c:\n",
    "        print(a)\n",
    "        print(c)\n",
    "        print(b)\n",
    "    else:\n",
    "        print(a)\n",
    "        print(b)\n",
    "        print(c)\n",
    "        \n",
    "elif b >= a and b >= c:\n",
    "    if a >= c:\n",
    "        print(b)\n",
    "        print(c)\n",
    "        print(a)\n",
    "    else:\n",
    "        print(b)\n",
    "        print(a)\n",
    "        print(c)\n",
    "elif c >= a and c >= b:\n",
    "    if a >= b:\n",
    "        print(c)\n",
    "        print(b)\n",
    "        print(a)\n",
    "    else:\n",
    "        print(c)\n",
    "        print(a)\n",
    "        print(b)"
   ]
  },
  {
   "cell_type": "code",
   "execution_count": 62,
   "metadata": {},
   "outputs": [
    {
     "name": "stdout",
     "output_type": "stream",
     "text": [
      "12\n",
      "12 программиста\n"
     ]
    }
   ],
   "source": [
    "x = int(input())\n",
    "if x % 10 == 1 and x % 100 != 11 or x % 100 == 1 and (x % 10 != 0 or x % 100 != 0):\n",
    "    print (x, \"программист\")\n",
    "elif (x % 10 == 2 and x % 100 != 12) or (x % 10 == 3 and x % 100 != 13) or (x % 10 == 4 and x % 100 != 14):\n",
    "    print (x, \"программиста\")   \n",
    "else:\n",
    "    print (x, \"программистов\")   \n",
    "    \n"
   ]
  },
  {
   "cell_type": "code",
   "execution_count": 44,
   "metadata": {},
   "outputs": [
    {
     "name": "stdout",
     "output_type": "stream",
     "text": [
      "-5 1\n",
      "-4 2\n",
      "-3 0\n",
      "-2 1\n",
      "-1 2\n",
      "0 0\n",
      "1 1\n",
      "2 2\n",
      "3 0\n",
      "4 1\n",
      "5 2\n",
      "6 0\n",
      "7 1\n",
      "8 2\n",
      "9 0\n",
      "10 1\n",
      "11 2\n",
      "12 0\n"
     ]
    }
   ],
   "source": [
    "for i in range (-5, 13):    \n",
    "    n= i\n",
    "    print (n, i % 3)"
   ]
  },
  {
   "cell_type": "code",
   "execution_count": 104,
   "metadata": {},
   "outputs": [
    {
     "name": "stdout",
     "output_type": "stream",
     "text": [
      "113\n",
      "113 программистов\n"
     ]
    }
   ],
   "source": [
    "n = int(input())\n",
    "p = 'программист'\n",
    "if n % 10 == 1 and n % 100 != 11:\n",
    "    print (n, p)\n",
    "elif (2 <= n % 10 <= 4 and 12 != n % 100 != 14 and n % 100 != 13):\n",
    "    print (n, p + 'а')\n",
    "else:\n",
    "    print (n, p + 'ов')"
   ]
  },
  {
   "cell_type": "code",
   "execution_count": 139,
   "metadata": {},
   "outputs": [
    {
     "name": "stdout",
     "output_type": "stream",
     "text": [
      "134116\n",
      "Счастливый\n"
     ]
    }
   ],
   "source": [
    "t = int(input())\n",
    "if t // 100000 + t // 10000 % 10 + t // 1000 % 10 == t // 100 % 10 +t // 10 % 10 + t % 10:\n",
    "    print(\"Счастливый\")\n",
    "else:\n",
    "    print(\"Обычный\")\n",
    "\n"
   ]
  },
  {
   "cell_type": "code",
   "execution_count": 135,
   "metadata": {},
   "outputs": [
    {
     "data": {
      "text/plain": [
       "5"
      ]
     },
     "execution_count": 135,
     "metadata": {},
     "output_type": "execute_result"
    }
   ],
   "source": [
    "\n"
   ]
  },
  {
   "cell_type": "code",
   "execution_count": 13,
   "metadata": {},
   "outputs": [
    {
     "name": "stdout",
     "output_type": "stream",
     "text": [
      "\n",
      "*\n",
      "**\n",
      "***\n",
      "****\n",
      "*****\n",
      "******\n"
     ]
    }
   ],
   "source": [
    "for i in range(7):   \n",
    "    print (\"*\"*i)"
   ]
  },
  {
   "cell_type": "code",
   "execution_count": 1,
   "metadata": {},
   "outputs": [
    {
     "name": "stdout",
     "output_type": "stream",
     "text": [
      "2\n",
      "*\n",
      "**\n"
     ]
    }
   ],
   "source": [
    "n = int(input())\n",
    "c = 1\n",
    "while c <= n:\n",
    "    print('*' * c)\n",
    "    c+=1"
   ]
  },
  {
   "cell_type": "code",
   "execution_count": 18,
   "metadata": {},
   "outputs": [
    {
     "name": "stdout",
     "output_type": "stream",
     "text": [
      "6\n",
      "*\n",
      "**\n",
      "***\n",
      "****\n",
      "*****\n",
      "******\n"
     ]
    }
   ],
   "source": [
    "n = int(input())\n",
    "stars = \"*\"\n",
    "while len(stars) <= n:\n",
    "    print (stars)\n",
    "    stars += '*'"
   ]
  },
  {
   "cell_type": "code",
   "execution_count": 21,
   "metadata": {},
   "outputs": [
    {
     "name": "stdout",
     "output_type": "stream",
     "text": [
      "3\n",
      "7\n",
      "25\n"
     ]
    }
   ],
   "source": [
    "a = int(input())\n",
    "b = int(input())\n",
    "s = 0\n",
    "i = a\n",
    "while i <= b:\n",
    "    s += i\n",
    "    i += 1\n",
    "print (s)"
   ]
  },
  {
   "cell_type": "code",
   "execution_count": 5,
   "metadata": {},
   "outputs": [
    {
     "name": "stdout",
     "output_type": "stream",
     "text": [
      "0\n",
      "0\n"
     ]
    }
   ],
   "source": [
    "s = 1\n",
    "S = 0\n",
    "while s != 0:\n",
    "    s = int(input()) \n",
    "    S += s\n",
    "print(S)\n",
    "    "
   ]
  },
  {
   "cell_type": "code",
   "execution_count": 8,
   "metadata": {},
   "outputs": [
    {
     "name": "stdout",
     "output_type": "stream",
     "text": [
      "\n"
     ]
    }
   ],
   "source": [
    "import sys\n",
    "exec(\"print(%s)\"%sys.stdin.read().strip().replace(\"\\n\", \"+\"))"
   ]
  },
  {
   "cell_type": "code",
   "execution_count": 20,
   "metadata": {},
   "outputs": [
    {
     "name": "stdout",
     "output_type": "stream",
     "text": [
      "5\n",
      "7\n",
      "5\n"
     ]
    }
   ],
   "source": [
    "a = int(input())\n",
    "b = int(input())\n",
    "d = 1\n",
    "while (d % a != 0) or (d % b != 0):\n",
    "    d += 1\n",
    "print (d)"
   ]
  },
  {
   "cell_type": "code",
   "execution_count": 23,
   "metadata": {},
   "outputs": [
    {
     "name": "stdout",
     "output_type": "stream",
     "text": [
      "5\n"
     ]
    }
   ],
   "source": [
    "print (5 % 7)"
   ]
  },
  {
   "cell_type": "code",
   "execution_count": 31,
   "metadata": {},
   "outputs": [
    {
     "data": {
      "text/plain": [
       "False"
      ]
     },
     "execution_count": 31,
     "metadata": {},
     "output_type": "execute_result"
    }
   ],
   "source": [
    "False or False\n"
   ]
  },
  {
   "cell_type": "code",
   "execution_count": 3,
   "metadata": {},
   "outputs": [
    {
     "name": "stdout",
     "output_type": "stream",
     "text": [
      "91\n",
      "91\n",
      "-1\n",
      "-100\n",
      "101\n"
     ]
    }
   ],
   "source": [
    "i = 1\n",
    "while i != 0:\n",
    "    x = int(input())\n",
    "    if x < 10:\n",
    "        continue\n",
    "    if x > 100:\n",
    "        break\n",
    "    else:\n",
    "        print (x)\n"
   ]
  },
  {
   "cell_type": "code",
   "execution_count": 4,
   "metadata": {},
   "outputs": [
    {
     "name": "stdout",
     "output_type": "stream",
     "text": [
      "6\n",
      "90\n",
      "90\n",
      "101\n"
     ]
    }
   ],
   "source": [
    "exec('''while True:\n",
    "    i = int(input())\n",
    "    if(i < 10):continue\n",
    "    elif(i> 100):break\n",
    "    else: print(i)''')"
   ]
  },
  {
   "cell_type": "code",
   "execution_count": 13,
   "metadata": {},
   "outputs": [
    {
     "name": "stdout",
     "output_type": "stream",
     "text": [
      "7\n",
      "10\n",
      "5\n",
      "6\n",
      "\t 5\t 6\n",
      "7\t 35\t 42\n",
      "8\t 40\t 48\n",
      "9\t 45\t 54\n",
      "10\t 50\t 60\n"
     ]
    }
   ],
   "source": [
    "a, b, c, d = [int(input()) for k in range(4)]\n",
    "if a <= b and c <= d and a <= 10 and c <= 10:\n",
    "    for j in range(c, d + 1):\n",
    "        print('\\t', j, end='')\n",
    "    print()\n",
    "    for i in range(a, b + 1):\n",
    "        print(i, end='')\n",
    "        for j in range(c, d + 1):\n",
    "            print('\\t', i * j, end='')\n",
    "        print()"
   ]
  },
  {
   "cell_type": "code",
   "execution_count": 2,
   "metadata": {},
   "outputs": [
    {
     "name": "stdout",
     "output_type": "stream",
     "text": [
      "0\n",
      "7\n",
      "3.0\n"
     ]
    }
   ],
   "source": [
    "a, b = [int(input()) for k in range(2)]\n",
    "s = 0\n",
    "d = 0\n",
    "for i in range (a, b + 1):\n",
    "    if i % 3 == 0:\n",
    "        s += i\n",
    "        d += 1\n",
    "print(s / d)"
   ]
  },
  {
   "cell_type": "code",
   "execution_count": 43,
   "metadata": {},
   "outputs": [
    {
     "name": "stdout",
     "output_type": "stream",
     "text": [
      "-5\n",
      "12\n",
      "4.5\n"
     ]
    }
   ],
   "source": [
    "print((((int(input())-1)//3)+1+int(input())//3)*1.5)"
   ]
  },
  {
   "cell_type": "code",
   "execution_count": 57,
   "metadata": {},
   "outputs": [
    {
     "name": "stdout",
     "output_type": "stream",
     "text": [
      "ACGGTGTTAT\n",
      "40.0\n"
     ]
    }
   ],
   "source": [
    "genome = input()\n",
    "cnt = 0\n",
    "l = genome.lower()\n",
    "for nucl in l:\n",
    "    if nucl == 'c' or nucl == 'g':\n",
    "        cnt += 1\n",
    "print((cnt/len(genome))*100)"
   ]
  },
  {
   "cell_type": "code",
   "execution_count": 58,
   "metadata": {},
   "outputs": [
    {
     "name": "stdout",
     "output_type": "stream",
     "text": [
      "ACGGTGTTAT\n",
      "40.0\n"
     ]
    }
   ],
   "source": [
    "exec('''s = input()\n",
    "print(((s.lower().count('c')+s.lower().count('g'))/len(s))*100)''')"
   ]
  },
  {
   "cell_type": "code",
   "execution_count": 15,
   "metadata": {},
   "outputs": [
    {
     "name": "stdout",
     "output_type": "stream",
     "text": [
      "llll\n",
      "l1\n"
     ]
    }
   ],
   "source": [
    "w = input()\n",
    "l = len(w)\n",
    "s = 1\n",
    "k = 0\n",
    "n = 0\n",
    "res = ''\n",
    "x=''\n",
    "for i in range (l):\n",
    "    p = i + n\n",
    "    s = 1\n",
    "    for j in range (p + 1, l):\n",
    "        if w[p] == w[j]:\n",
    "            n += 1\n",
    "            s += 1\n",
    "            #print(n, s)\n",
    "        else:\n",
    "            res = w[p] + str(s)\n",
    "            x += res\n",
    "            break    \n",
    "res = w[i] + str(s)\n",
    "x += res    \n",
    "print(x)\n",
    "   "
   ]
  },
  {
   "cell_type": "code",
   "execution_count": 93,
   "metadata": {},
   "outputs": [
    {
     "name": "stdout",
     "output_type": "stream",
     "text": [
      "gffgttgg\n"
     ]
    },
    {
     "data": {
      "text/plain": [
       "{'t': 2, 'f': 2, 'g': 4}"
      ]
     },
     "execution_count": 93,
     "metadata": {},
     "output_type": "execute_result"
    }
   ],
   "source": [
    "w=input()\n",
    "{i:w.count(i) for i in set(w)}\n"
   ]
  },
  {
   "cell_type": "code",
   "execution_count": 7,
   "metadata": {},
   "outputs": [
    {
     "name": "stdout",
     "output_type": "stream",
     "text": [
      "no\n"
     ]
    }
   ],
   "source": [
    "if 'a' == 'A':\n",
    "    print('ok')\n",
    "else:\n",
    "    print('no')"
   ]
  },
  {
   "cell_type": "code",
   "execution_count": 10,
   "metadata": {},
   "outputs": [
    {
     "name": "stdout",
     "output_type": "stream",
     "text": [
      "h h h\n"
     ]
    }
   ],
   "source": [
    "w = 'hhhhhhhh'\n",
    "print (w[1], w[3], w[5])"
   ]
  },
  {
   "cell_type": "code",
   "execution_count": 14,
   "metadata": {},
   "outputs": [
    {
     "name": "stdout",
     "output_type": "stream",
     "text": [
      "aaaabbnbvcccgyttrr\n"
     ]
    },
    {
     "ename": "IndexError",
     "evalue": "string index out of range",
     "output_type": "error",
     "traceback": [
      "\u001b[1;31m---------------------------------------------------------------------------\u001b[0m",
      "\u001b[1;31mIndexError\u001b[0m                                Traceback (most recent call last)",
      "\u001b[1;32m<ipython-input-14-513ade1c7895>\u001b[0m in \u001b[0;36m<module>\u001b[1;34m()\u001b[0m\n\u001b[0;32m     20\u001b[0m             \u001b[0mx\u001b[0m \u001b[1;33m+=\u001b[0m \u001b[0mres\u001b[0m\u001b[1;33m\u001b[0m\u001b[0m\n\u001b[0;32m     21\u001b[0m             \u001b[1;32mbreak\u001b[0m\u001b[1;33m\u001b[0m\u001b[0m\n\u001b[1;32m---> 22\u001b[1;33m     \u001b[0mres\u001b[0m \u001b[1;33m=\u001b[0m \u001b[0mw\u001b[0m\u001b[1;33m[\u001b[0m\u001b[0mp\u001b[0m\u001b[1;33m]\u001b[0m \u001b[1;33m+\u001b[0m \u001b[0mstr\u001b[0m\u001b[1;33m(\u001b[0m\u001b[0ms\u001b[0m\u001b[1;33m)\u001b[0m\u001b[1;33m\u001b[0m\u001b[0m\n\u001b[0m\u001b[0;32m     23\u001b[0m     \u001b[0mx\u001b[0m \u001b[1;33m+=\u001b[0m \u001b[0mres\u001b[0m\u001b[1;33m\u001b[0m\u001b[0m\n\u001b[0;32m     24\u001b[0m \u001b[0mprint\u001b[0m\u001b[1;33m(\u001b[0m\u001b[0mx\u001b[0m\u001b[1;33m)\u001b[0m\u001b[1;33m\u001b[0m\u001b[0m\n",
      "\u001b[1;31mIndexError\u001b[0m: string index out of range"
     ]
    }
   ],
   "source": [
    "w = input()\n",
    "l = len(w)\n",
    "s = 1\n",
    "k = 0\n",
    "n = 0\n",
    "res = ''\n",
    "x=''\n",
    "for i in range (l):\n",
    "    p = i + n\n",
    "    j = p + 1\n",
    "    s = 1\n",
    "    while j < l:\n",
    "        if w[p] == w[j]:\n",
    "            n += 1\n",
    "            s += 1\n",
    "            j += 1\n",
    "            #print(n, s)\n",
    "        else:\n",
    "            res = w[p] + str(s)\n",
    "            x += res\n",
    "            break\n",
    "    res = w[p] + str(s)\n",
    "    x += res\n",
    "print(x)    "
   ]
  },
  {
   "cell_type": "code",
   "execution_count": 15,
   "metadata": {},
   "outputs": [
    {
     "name": "stdout",
     "output_type": "stream",
     "text": [
      "aaaabbnbvcccgyttrr\n",
      "a4b2n1b1v1c3g1y1t2r2\n"
     ]
    }
   ],
   "source": [
    "w = input()\n",
    "l = len(w)\n",
    "s = 1\n",
    "n = 0\n",
    "res = ''\n",
    "x = ''\n",
    "for i in range (l):\n",
    "    p = i + n\n",
    "    j = p + 1\n",
    "    s = 1\n",
    "    while j < l:\n",
    "        if w[p] == w[j]:\n",
    "            n += 1\n",
    "            s += 1\n",
    "            j += 1\n",
    "        else:\n",
    "            res = w[p] + str(s)\n",
    "            x += res\n",
    "            break\n",
    "    else:\n",
    "        res = w[p] + str(s)\n",
    "        x += res\n",
    "        break\n",
    "print(x)"
   ]
  },
  {
   "cell_type": "code",
   "execution_count": 60,
   "metadata": {},
   "outputs": [
    {
     "name": "stdout",
     "output_type": "stream",
     "text": [
      "aaaabbсaa\n",
      "b4с2a1a2\n"
     ]
    }
   ],
   "source": [
    "#Димановский вариант\n",
    "\n",
    "a = input()\n",
    "d = a[0]\n",
    "cnt = 0\n",
    "result=''\n",
    "for c in a:\n",
    "    if d!=c:\n",
    "        result += c\n",
    "        result += str(cnt)\n",
    "        d=c\n",
    "        cnt = 0\n",
    "    cnt+=1\n",
    "if cnt>0:\n",
    "    result += c\n",
    "    result+=str(cnt)\n",
    "print(result)"
   ]
  },
  {
   "cell_type": "code",
   "execution_count": null,
   "metadata": {},
   "outputs": [],
   "source": [
    "#Your code complexity score is 11.0\n",
    "s = input()\n",
    "s1 = \"\"\n",
    "a = 0\n",
    "b = s[0]\n",
    "for i in s:\n",
    "    if i == b:\n",
    "        a += 1\n",
    "    else:\n",
    "        s1 += b + str(a)\n",
    "        a = 1\n",
    "        b = i\n",
    "s1 += b + str(a)\n",
    "print(s1)"
   ]
  },
  {
   "cell_type": "code",
   "execution_count": null,
   "metadata": {},
   "outputs": [],
   "source": [
    "#Your code complexity score is 8.66\n",
    "a=input()\n",
    "s=1\n",
    "a=a+'0'\n",
    "for j in range (0,len(a)-1):\n",
    "    if a[j]==a[j+1]:\n",
    "        s+=1\n",
    "    else:\n",
    "        print((a[j]+str(s)),end='')\n",
    "        s=1"
   ]
  },
  {
   "cell_type": "code",
   "execution_count": null,
   "metadata": {},
   "outputs": [],
   "source": [
    "#Your code complexity score is 5.1\n",
    "s,n = 0,input()+' '\n",
    "for i in n:\n",
    "    if n[0] != i:\n",
    "        print(n[0],s,end='',sep='')\n",
    "        s,n = 0,i\n",
    "    s += 1"
   ]
  },
  {
   "cell_type": "code",
   "execution_count": null,
   "metadata": {},
   "outputs": [],
   "source": [
    "import itertools\n",
    "print(\"\".join([k+str(len(list(g))) for k, g in itertools.groupby(input())]))"
   ]
  },
  {
   "cell_type": "code",
   "execution_count": null,
   "metadata": {},
   "outputs": [],
   "source": [
    "#Your code complexity score is 2.0\n",
    "from itertools import groupby\n",
    "\n",
    "print(''.join(f'{char}{len(list(group))}' for char, group in groupby(input())))"
   ]
  },
  {
   "cell_type": "code",
   "execution_count": 2,
   "metadata": {},
   "outputs": [],
   "source": [
    "students = ['Ivan', 'Masha', 'Sasha']\n",
    "students += 'Ivan'"
   ]
  },
  {
   "cell_type": "code",
   "execution_count": 3,
   "metadata": {},
   "outputs": [
    {
     "data": {
      "text/plain": [
       "['Ivan', 'Masha', 'Sasha', 'I', 'v', 'a', 'n']"
      ]
     },
     "execution_count": 3,
     "metadata": {},
     "output_type": "execute_result"
    }
   ],
   "source": [
    "students"
   ]
  },
  {
   "cell_type": "code",
   "execution_count": 8,
   "metadata": {},
   "outputs": [],
   "source": [
    "a = [1, 2, 3]\n",
    "b = a\n",
    "# значения списка b?\n",
    "\n",
    "a[1] = 10\n",
    "# значения списка b?\n",
    "\n",
    "b[0] = 20\n",
    "# значения списка a?\n",
    "\n",
    "a = [5, 6]\n",
    "# значения списка b?"
   ]
  },
  {
   "cell_type": "code",
   "execution_count": 31,
   "metadata": {},
   "outputs": [
    {
     "name": "stdout",
     "output_type": "stream",
     "text": [
      "4 -1 9 3\n",
      "15\n"
     ]
    }
   ],
   "source": [
    "a = [int(i) for i in input().split()]\n",
    "s = 0\n",
    "for i in a:\n",
    "    s += i\n",
    "print(s)"
   ]
  },
  {
   "cell_type": "code",
   "execution_count": null,
   "metadata": {},
   "outputs": [],
   "source": [
    "#1\n",
    "print(sum(int(i) for i in input().split()))"
   ]
  },
  {
   "cell_type": "code",
   "execution_count": null,
   "metadata": {},
   "outputs": [],
   "source": [
    "#2\n",
    "s = 0\n",
    "for i in input().split():\n",
    "    s += int(i)\n",
    "print(s)"
   ]
  },
  {
   "cell_type": "code",
   "execution_count": null,
   "metadata": {},
   "outputs": [],
   "source": [
    "#3 Your code complexity score is 1.0\n",
    "exec('print(sum([int(i) for i in input().split()]))')"
   ]
  },
  {
   "cell_type": "code",
   "execution_count": 89,
   "metadata": {},
   "outputs": [
    {
     "name": "stdout",
     "output_type": "stream",
     "text": [
      "7\n",
      "7\n"
     ]
    }
   ],
   "source": [
    "a = [int(i) for i in input().split()]\n",
    "s = 0\n",
    "for j in range(len(a)):\n",
    "    if len(a) == 1:\n",
    "        print(a[j])\n",
    "        break\n",
    "    elif j < len(a)-1:\n",
    "        print(a[j-1] + a[j+1], end=' ')\n",
    "    else:\n",
    "        print(a[j-1] + a[0], end=' ')"
   ]
  },
  {
   "cell_type": "code",
   "execution_count": null,
   "metadata": {},
   "outputs": [],
   "source": [
    "#1 Your code complexity score is 1.0\n",
    "exec('''s = [int(i) for i in input().split()]\n",
    "[print(s[i-1]*(1*(len(s)!=1))+s[(i+1)%len(s)],end=\" \") for i in range(len(s))]''')"
   ]
  },
  {
   "cell_type": "code",
   "execution_count": 82,
   "metadata": {},
   "outputs": [
    {
     "name": "stdout",
     "output_type": "stream",
     "text": [
      "9\n",
      "9\n"
     ]
    }
   ],
   "source": [
    "#2\n",
    "a = [int(i) for i in input().split()]\n",
    "if(len(a) == 1):\n",
    "    print(a[0])\n",
    "else:\n",
    "    for i in range(len(a)):\n",
    "        print(a[i - 1] + a[(i + 1) % len(a)], end=' ')"
   ]
  },
  {
   "cell_type": "code",
   "execution_count": 31,
   "metadata": {},
   "outputs": [
    {
     "name": "stdout",
     "output_type": "stream",
     "text": [
      "1 1 1 1 2 2\n",
      "1 2 "
     ]
    }
   ],
   "source": [
    "a, b = input().split(), []\n",
    "a.sort()\n",
    "for i in a:\n",
    "    if a.count(i) > 1:\n",
    "        b.append(i)\n",
    "for k in range(len(b)):\n",
    "    s = b.index(b[k])\n",
    "    while k != s:\n",
    "        break\n",
    "    else:\n",
    "        print(b[k], end=' ')"
   ]
  },
  {
   "cell_type": "code",
   "execution_count": 30,
   "metadata": {},
   "outputs": [
    {
     "name": "stdout",
     "output_type": "stream",
     "text": [
      "0\n"
     ]
    }
   ],
   "source": [
    "#1\n",
    "ls = [int(i) for i in input().split()]\n",
    "for i in set(ls):\n",
    "    if ls.count(i) > 1:\n",
    "        print(i, end=' ')"
   ]
  },
  {
   "cell_type": "code",
   "execution_count": 22,
   "metadata": {},
   "outputs": [
    {
     "name": "stdout",
     "output_type": "stream",
     "text": [
      "1 1 1 1 1 2 2\n",
      "1 2 "
     ]
    }
   ],
   "source": [
    "#2\n",
    "a, b = [int(i) for i in input().split()], []\n",
    "for i in a:\n",
    "    if a.count(i) > 1 and b.count(i) == 0:\n",
    "        b.append(i)\n",
    "        print(i, end=\" \")"
   ]
  },
  {
   "cell_type": "code",
   "execution_count": null,
   "metadata": {},
   "outputs": [],
   "source": [
    "#3\n",
    "s = [int(i) for i in input().split()]\n",
    "s.sort()\n",
    "i = 0\n",
    "while i < len(s):\n",
    "    if s.count(s[i]) > 1:      # думаю, тут всё понятно\n",
    "        print (s[i], end=' ')  \n",
    "        i += s.count(s[i])     # прибавляем к индексу количество повторений текущего элемента,\n",
    "                               # чтобы перескочить на первый отличающийся от текущего\n",
    "    else:                      \n",
    "        i += 1"
   ]
  },
  {
   "cell_type": "code",
   "execution_count": 26,
   "metadata": {},
   "outputs": [
    {
     "name": "stdout",
     "output_type": "stream",
     "text": [
      "1 1 1 1 3 3 4 5 6 67 7 54 4 4\n",
      "4 1 3\n"
     ]
    }
   ],
   "source": [
    "#4\n",
    "a=input().split()\n",
    "[a.remove(i) for i in set(a)]\n",
    "print(*set(a))\n",
    "\n",
    "#set(a) - дает уникальные значения (без повторов)\n",
    "\n",
    "#перебираем уникальные значения и удаляем их из входного списка\n",
    "\n",
    "#итого у нас остаются только дубли во входном списке\n",
    "\n",
    "#снова берем set(a) и выводим его"
   ]
  },
  {
   "cell_type": "code",
   "execution_count": null,
   "metadata": {},
   "outputs": [],
   "source": [
    "#5\n",
    "input_numbers = input().split()\n",
    "print(' '.join(set(filter(lambda x: input_numbers.count(x) > 1, input_numbers))))"
   ]
  },
  {
   "cell_type": "code",
   "execution_count": null,
   "metadata": {},
   "outputs": [],
   "source": [
    "#6\n",
    "l = input().split()\n",
    "print(*{x for x in l if l.count(x) - 1})"
   ]
  },
  {
   "cell_type": "code",
   "execution_count": null,
   "metadata": {},
   "outputs": [],
   "source": [
    "#7 Your code complexity score is 1.0 \n",
    "exec('''s = [int(i) for i in input().split()]\n",
    "for i in set(s):\n",
    "    if s.count(i)> 1:\n",
    "        print(i,end=\" \")''')"
   ]
  },
  {
   "cell_type": "code",
   "execution_count": 1,
   "metadata": {},
   "outputs": [
    {
     "name": "stdout",
     "output_type": "stream",
     "text": [
      "3\n",
      "5\n",
      "7\n",
      "4\n",
      "-19\n",
      "460\n"
     ]
    }
   ],
   "source": [
    "s, res = 0, 0\n",
    "x = []\n",
    "while True:\n",
    "    b = int(input())\n",
    "    s += b\n",
    "    x.append(b)    \n",
    "    if s == 0:\n",
    "        break\n",
    "for i in x:\n",
    "    res += i ** 2\n",
    "print(res)\n",
    "    "
   ]
  },
  {
   "cell_type": "code",
   "execution_count": null,
   "metadata": {},
   "outputs": [],
   "source": [
    "#1\n",
    "s=[int(input())]\n",
    "while sum(s)!=0: s.append(int(input()))\n",
    "print(sum([i**2 for i in s]))"
   ]
  },
  {
   "cell_type": "code",
   "execution_count": null,
   "metadata": {},
   "outputs": [],
   "source": [
    "#2 Your code complexity score is 1.0\n",
    "exec('''mas = [int(input())]\n",
    "while sum(mas) != 0:\n",
    "    mas.append(int(input()))\n",
    "print(sum([i**2 for i in mas]))''')"
   ]
  },
  {
   "cell_type": "code",
   "execution_count": 16,
   "metadata": {},
   "outputs": [
    {
     "name": "stdout",
     "output_type": "stream",
     "text": [
      "47\n",
      "1 2 2 3 3 3 4 4 4 4 5 5 5 5 5 6 6 6 6 6 6 7 7 7 7 7 7 7 8 8 8 8 8 8 8 8 9 9 9 9 9 9 9 9 9 10 10 "
     ]
    }
   ],
   "source": [
    "n = int(input())\n",
    "j = 0\n",
    "k = 1\n",
    "s = []\n",
    "for i in range(n):\n",
    "    s += [i + 1] * k\n",
    "    k += 1\n",
    "while j != n:\n",
    "    print(s[j], end = ' ')\n",
    "    j += 1"
   ]
  },
  {
   "cell_type": "code",
   "execution_count": 18,
   "metadata": {},
   "outputs": [
    {
     "name": "stdout",
     "output_type": "stream",
     "text": [
      "8\n",
      "1 2 2 3 3 3 4 4\n"
     ]
    }
   ],
   "source": [
    "#1\n",
    "n = int(input())\n",
    "a = []\n",
    "i = 0\n",
    "while len(a) < n:\n",
    "    a += [i] * i\n",
    "    i += 1\n",
    "print(*a[:n])"
   ]
  },
  {
   "cell_type": "code",
   "execution_count": null,
   "metadata": {},
   "outputs": [],
   "source": [
    "#2\n",
    "n, x = int(input()), []\n",
    "for i in range(n+1):\n",
    "    x += [i] * i\n",
    "print(*x[:n])"
   ]
  },
  {
   "cell_type": "code",
   "execution_count": 31,
   "metadata": {},
   "outputs": [
    {
     "name": "stdout",
     "output_type": "stream",
     "text": [
      "5 8 2 7 8 8 2 4\n",
      "10\n",
      "Отсутствует\n"
     ]
    }
   ],
   "source": [
    "lst = [int(i) for i in input().split()]\n",
    "x = int(input())\n",
    "for i in range(len(lst)):\n",
    "    if lst[i] == x:\n",
    "        print(i, end=' ')\n",
    "    elif x not in lst:\n",
    "        print('Отсутствует')\n",
    "        break"
   ]
  },
  {
   "cell_type": "code",
   "execution_count": null,
   "metadata": {},
   "outputs": [],
   "source": [
    "#1 Your code complexity score is 1.0 \n",
    "exec('''st = [int(i) for i in input().split()]\n",
    "n = int(input())\n",
    "if not n in st: print('Отсутствует')\n",
    "for i in range(len(st)):\n",
    "    if(st[i]==n):\n",
    "        print(i, end=\" \")''')"
   ]
  },
  {
   "cell_type": "code",
   "execution_count": 35,
   "metadata": {},
   "outputs": [
    {
     "name": "stdout",
     "output_type": "stream",
     "text": [
      "5 5\n"
     ]
    }
   ],
   "source": [
    "x, y = (int(i) for i in input().split())\n",
    "a = [[0 for j in range(y)] for i in range(x)]"
   ]
  },
  {
   "cell_type": "code",
   "execution_count": 36,
   "metadata": {},
   "outputs": [
    {
     "data": {
      "text/plain": [
       "[[0, 0, 0, 0, 0],\n",
       " [0, 0, 0, 0, 0],\n",
       " [0, 0, 0, 0, 0],\n",
       " [0, 0, 0, 0, 0],\n",
       " [0, 0, 0, 0, 0]]"
      ]
     },
     "execution_count": 36,
     "metadata": {},
     "output_type": "execute_result"
    }
   ],
   "source": [
    "a"
   ]
  },
  {
   "cell_type": "code",
   "execution_count": 15,
   "metadata": {},
   "outputs": [
    {
     "name": "stdout",
     "output_type": "stream",
     "text": [
      "1\n",
      "2\n",
      "3\n",
      "4\n",
      "end\n",
      "8 \n",
      "8 \n",
      "12 \n",
      "12 \n"
     ]
    }
   ],
   "source": [
    "x = 1\n",
    "b = []\n",
    "while x != 0:\n",
    "    a = input()\n",
    "    if a != 'end':\n",
    "        a_int = [int(i) for i in a.split()]\n",
    "        b.append(a_int)\n",
    "    else:\n",
    "        x = 0\n",
    "for i in range(len(b)):\n",
    "    k = 0\n",
    "    if i >= len(b) - 1:\n",
    "        k = i + 1\n",
    "    for j in range(len(a_int)):\n",
    "        z = 0\n",
    "        if j >= len(a_int) - 1:\n",
    "            z = j + 1\n",
    "        s = b[i - 1][j] + b[i + 1 - (k)][j] + b[i][j - 1] + b[i][j + 1 - (z)]\n",
    "        print(s, end=' ')\n",
    "        s = 0\n",
    "    print()"
   ]
  },
  {
   "cell_type": "code",
   "execution_count": 12,
   "metadata": {},
   "outputs": [
    {
     "data": {
      "text/plain": [
       "2"
      ]
     },
     "execution_count": 12,
     "metadata": {},
     "output_type": "execute_result"
    }
   ],
   "source": [
    "#1\n",
    "a = [] # Создаем список.\n",
    "x = 0 # x - счетчик строк(лучше не смог придумать).\n",
    "while True:\n",
    "    a.append([i for i in input().split()]) # Ввод самих данных пока не напишем \"end\", после происходит остановка цикла.\n",
    "    if a[-1][0] == 'end':\n",
    "        break\n",
    "    x += 1   \n",
    "a.remove(a[-1]) # Удаляем \"end\"\n",
    "a = [[int(j) for j in i] for i in a] # Преобразуем все строки в целые числа\n",
    "# Сам цикл вывода новой матрицы:\n",
    "for i in range(x): # Цикл for по строкам\n",
    "    for j in range(len(a[0])): # Цикл for по столбцам\n",
    "        print((a[i-x+1][j]+a[i-1][j]+a[i][j-1]+a[i][j-len(a[0])+1]), end=' ') # Чтобы не выйти за пределы, можно просто отнимать ширину/высоту самой строки/столбца от того значения который выходит за пределы(меняется индексация на отрицательную).\n",
    "    print() # Что бы весь вывод не слипался в одну строку."
   ]
  },
  {
   "cell_type": "code",
   "execution_count": null,
   "metadata": {},
   "outputs": [],
   "source": [
    "#2 Your code complexity score is 16.88\n",
    "s=[]\n",
    "m=()\n",
    "while 1:\n",
    "    m=input()\n",
    "    if m==\"end\":\n",
    "        break\n",
    "    else:\n",
    "        s.append([int(i) for i in m.split()])\n",
    "r=len(s)\n",
    "c=len(s[0])\n",
    "for i in range(r):\n",
    "    for j in range (c):\n",
    "        print (s[i-1][j]+s[i+1-r][j]+s[i][j-1]+s[i][j+1-c], end =\" \")\n",
    "    print ()"
   ]
  },
  {
   "cell_type": "code",
   "execution_count": null,
   "metadata": {},
   "outputs": [],
   "source": [
    "#3 Your code complexity score is 17.15\n",
    "s , a = input(), []\n",
    "while s != 'end':\n",
    "    a.append([int(n) for n in s.split()])\n",
    "    s = input()\n",
    "for i in range(len(a)):\n",
    "    for j in range(len(a[i])):\n",
    "        print(a[i-1][j] + a[i-len(a)+1][j] + a[i][j-1] + a[i][j-len(a[i])+1], end=' ')\n",
    "    print()"
   ]
  },
  {
   "cell_type": "code",
   "execution_count": null,
   "metadata": {},
   "outputs": [],
   "source": [
    "# 4\n",
    "m = []\n",
    "while True:\n",
    "    mi = input()\n",
    "    if mi != 'end':\n",
    "        m.append([int(i) for i in mi.split()])\n",
    "    else:\n",
    "        break\n",
    "for i in range(len(m)):\n",
    "    for j in range(len(m[0])):\n",
    "        print(m[i - 1][j] + m[i - len(m) + 1][j] + m[i][j - 1] + m[i][j - len(m[0]) + 1], end=' ')\n",
    "    print()"
   ]
  },
  {
   "cell_type": "code",
   "execution_count": 33,
   "metadata": {},
   "outputs": [
    {
     "name": "stdout",
     "output_type": "stream",
     "text": [
      "3\n",
      "1 2 3 \n",
      "8 9 4 \n",
      "7 6 5 \n"
     ]
    }
   ],
   "source": [
    "#Мое Your code complexity score is 26.4\n",
    "n = int(input())\n",
    "s = [[0 for j in range(n)] for i in range(n)]\n",
    "x = 1\n",
    "for i in range(n):\n",
    "    for a in range(i, n - i):# up-to-right\n",
    "        s[i][a] = x\n",
    "        x += 1\n",
    "    for b in range(i + 1, n - i):# right-down\n",
    "        s[b][n - 1 - i] = x\n",
    "        x += 1\n",
    "    for c in range(n - 1 - i, i, -1):# down-to-left\n",
    "        s[n - 1 - i][c - 1] = x\n",
    "        x += 1\n",
    "    for d in range(n - 1 - i, i + 1, -1):# left-up\n",
    "        s[d - 1][i] = x\n",
    "        x += 1\n",
    "for i in range(len(s)):\n",
    "    for j in range(len(s[0])):\n",
    "        print(s[i][j], end=' ')\n",
    "    print()"
   ]
  },
  {
   "cell_type": "code",
   "execution_count": null,
   "metadata": {},
   "outputs": [],
   "source": [
    "#1 Your code complexity score is 13.67\n",
    "n = int(input())\n",
    "a = [[0]*n for i in range(n)]\n",
    "dx, dy = 0, 1\n",
    "x, y = 0, 0\n",
    "for i in range(1, n**2+1):\n",
    "    a[x][y] = i\n",
    "    nx, ny = x + dx, y + dy\n",
    "    if 0 <= nx < n and 0 <= ny < n and not a[nx][ny]:\n",
    "        x, y = nx, ny\n",
    "    else:\n",
    "        dx, dy = dy, -dx\n",
    "        x, y = x + dx, y + dy \n",
    "for i in a:\n",
    "    print(*i) "
   ]
  },
  {
   "cell_type": "code",
   "execution_count": 15,
   "metadata": {},
   "outputs": [
    {
     "name": "stdout",
     "output_type": "stream",
     "text": [
      "5\n",
      "1 2 3 4 5 \n",
      "16 17 18 19 6 \n",
      "15 24 25 20 7 \n",
      "14 23 22 21 8 \n",
      "13 12 11 10 9 \n"
     ]
    }
   ],
   "source": [
    "#От Димана\n",
    "n = int(input())\n",
    "table = [[0 for x in range(n)] for y in range(n)]\n",
    "w = n\n",
    "offs = 0\n",
    "d = 0\n",
    "while w >= 1:\n",
    "    h = w - 2\n",
    "    for c in range(0, w):\n",
    "        idx = n - c - offs - 1\n",
    "        table[offs][offs + c] = c + d + 1\n",
    "        table[n - offs - 1][idx] = c + d + 2 * h + 3\n",
    "        if c in range(1, w - 1):\n",
    "            table[offs + c][n - offs - 1] = w + c + d\n",
    "            table[idx][offs] = w + c + d + 2 * h + 2\n",
    "    d += 2 * w + 2 * h\n",
    "    w -= 2\n",
    "    offs += 1\n",
    "for i in range(len(table)):\n",
    "    for j in range(len(table[0])):\n",
    "        print(table[i][j], end=' ')\n",
    "    print()"
   ]
  },
  {
   "cell_type": "code",
   "execution_count": 16,
   "metadata": {},
   "outputs": [
    {
     "name": "stdout",
     "output_type": "stream",
     "text": [
      "5\n",
      "1 2 3 4 5\n",
      "16 17 18 19 6\n",
      "15 24 25 20 7\n",
      "14 23 22 21 8\n",
      "13 12 11 10 9\n"
     ]
    },
    {
     "data": {
      "text/plain": [
       "[None, None, None, None, None]"
      ]
     },
     "execution_count": 16,
     "metadata": {},
     "output_type": "execute_result"
    }
   ],
   "source": [
    "# code complexity for this step, your score is 9.7\n",
    "n = int(input())\n",
    "m = [[0] * n for i in range(n)]\n",
    "i, j, di, dj = 0, 0, 0, 1\n",
    "\n",
    "for k in range(n * n):\n",
    "    m[i][j] = k + 1\n",
    "    if (not -1 < i + di < n) or (not -1 < j + dj < n) or m[i + di][j + dj] != 0:\n",
    "        di, dj = dj, -di\n",
    "    i, j = i + di, j + dj\n",
    "\n",
    "[print(*i) for i in m]\n",
    "\n",
    "\n",
    "#Но я не могу понять, как работает данное условие:\n",
    "\n",
    "#if (not -1 < i + di < n) or (not -1 < j + dj < n) or m[i + di][j + dj] != 0:\n",
    "#Это выражение проверяет находимся ли мы в допустимой области:\n",
    "\n",
    "#not -1 < i + di < n - по вертикали\n",
    "#not -1 < j + dj < n - по горизонтали\n",
    "#m[i + di][j + dj] != 0 - поскольку сначала всё поле заполнено '0', то здесь проверяется не попали ли мы на уже пройденное значение: если равно 0, то нужно новое значение, если не равно, то нужно повернуть!\n",
    "\n",
    "#Как работает логический оператор not в данном условии. Если не трудно, подскажите\n",
    "#Да всё же просто\n",
    "#not -1 < i + di < n\n",
    "#если новый индекс i + di в поле -1 <...< n нет (not) - это, так сказать, дословный перевод. По человечески это звучит как, новый индекс НЕ в поле"
   ]
  },
  {
   "cell_type": "code",
   "execution_count": 1,
   "metadata": {},
   "outputs": [],
   "source": [
    "def f(n):\n",
    "    return n * 10 + 5"
   ]
  },
  {
   "cell_type": "code",
   "execution_count": 2,
   "metadata": {},
   "outputs": [
    {
     "data": {
      "text/plain": [
       "10555"
      ]
     },
     "execution_count": 2,
     "metadata": {},
     "output_type": "execute_result"
    }
   ],
   "source": [
    "f(f(f(10)))"
   ]
  },
  {
   "cell_type": "code",
   "execution_count": 14,
   "metadata": {},
   "outputs": [],
   "source": [
    "def f(x):\n",
    "    if x <= -2:\n",
    "        res = 1 - ((x + 2)**2)\n",
    "    elif -2 < x <= 2:\n",
    "        res = -(x / 2)\n",
    "    elif x > 2:\n",
    "        res = ((x - 2)**2) + 1\n",
    "    return res"
   ]
  },
  {
   "cell_type": "code",
   "execution_count": 16,
   "metadata": {},
   "outputs": [
    {
     "name": "stdout",
     "output_type": "stream",
     "text": [
      "7.25\n"
     ]
    }
   ],
   "source": [
    "# 1\n",
    "def f(x):\n",
    "    if x <= -2:\n",
    "        return 1 - (x+2)**2\n",
    "    if x <= 2:\n",
    "        return -x/2\n",
    "    return (x-2)**2 + 1"
   ]
  },
  {
   "cell_type": "code",
   "execution_count": 58,
   "metadata": {},
   "outputs": [],
   "source": [
    "def modify_list(l):\n",
    "    lst = l[:]\n",
    "    for i in range(len(lst) - 1, -1, -1):\n",
    "        if l[i] % 2 != 0:\n",
    "            l.remove(l[i])\n",
    "    lst = l[:]\n",
    "    for j in range(len(lst) - 1, -1, -1):\n",
    "        tmp = l[j]\n",
    "        l.remove(l[j])\n",
    "        x = tmp // 2\n",
    "        l.append(x)\n",
    "    l.reverse()\n"
   ]
  },
  {
   "cell_type": "code",
   "execution_count": 59,
   "metadata": {},
   "outputs": [
    {
     "name": "stdout",
     "output_type": "stream",
     "text": [
      "None\n",
      "[0, 16, 6]\n",
      "[0, 8, 3]\n"
     ]
    }
   ],
   "source": [
    "l = [1,0,32,12]\n",
    "print(modify_list(l))  # None\n",
    "print(l)               # [1, 2, 3]\n",
    "modify_list(l)\n",
    "print(l)"
   ]
  },
  {
   "cell_type": "code",
   "execution_count": 75,
   "metadata": {},
   "outputs": [
    {
     "name": "stdout",
     "output_type": "stream",
     "text": [
      "[5, 4]\n"
     ]
    }
   ],
   "source": [
    "l = [10, 5, 8, 3]\n",
    "modify_list(l)\n",
    "print(l)"
   ]
  },
  {
   "cell_type": "code",
   "execution_count": 60,
   "metadata": {},
   "outputs": [
    {
     "data": {
      "text/plain": [
       "[0, 8, 3]"
      ]
     },
     "execution_count": 60,
     "metadata": {},
     "output_type": "execute_result"
    }
   ],
   "source": [
    "l"
   ]
  },
  {
   "cell_type": "code",
   "execution_count": 73,
   "metadata": {},
   "outputs": [],
   "source": [
    "def modify_list(l):\n",
    "    lst = l[:]\n",
    "    l.clear()\n",
    "    for j in range(len(lst)):\n",
    "        if lst[j] % 2 == 0:\n",
    "            x = lst[j] // 2\n",
    "            l.append(x)"
   ]
  },
  {
   "cell_type": "code",
   "execution_count": 74,
   "metadata": {},
   "outputs": [
    {
     "name": "stdout",
     "output_type": "stream",
     "text": [
      "None\n",
      "[1, 2, 3]\n",
      "[1]\n"
     ]
    }
   ],
   "source": [
    "l = [1, 2, 3, 4, 5, 6]\n",
    "print(modify_list(l))  # None\n",
    "print(l)               # [1, 2, 3]\n",
    "modify_list(l)\n",
    "print(l)"
   ]
  },
  {
   "cell_type": "code",
   "execution_count": 1,
   "metadata": {},
   "outputs": [],
   "source": [
    "# Мое (Your code complexity score is 5.39)\n",
    "def update_dictionary(d, key, value):\n",
    "    if key in d:\n",
    "        d[key].append(value)\n",
    "    elif key not in d:\n",
    "        key = 2 * key\n",
    "        if key in d:\n",
    "            d[key].append(value)\n",
    "        else:\n",
    "            d[key] = [value]"
   ]
  },
  {
   "cell_type": "code",
   "execution_count": 2,
   "metadata": {},
   "outputs": [
    {
     "name": "stdout",
     "output_type": "stream",
     "text": [
      "{2: [-1, -2, -3]}\n"
     ]
    }
   ],
   "source": [
    "d = {}\n",
    "update_dictionary(d, 1, -1)\n",
    "update_dictionary(d, 2, -2)\n",
    "update_dictionary(d, 1, -3)\n",
    "print(d)                   "
   ]
  },
  {
   "cell_type": "code",
   "execution_count": 4,
   "metadata": {},
   "outputs": [
    {
     "data": {
      "text/plain": [
       "{2: [-1, -2, -3]}"
      ]
     },
     "execution_count": 4,
     "metadata": {},
     "output_type": "execute_result"
    }
   ],
   "source": [
    "#Your code complexity score is 2.45 (best for this step is 2.45)\n",
    "def update_dictionary(d, key, value):\n",
    "    key += key * (key not in d)\n",
    "    d[key] = d.get(key, []) + [value]\n",
    "    \n",
    "#Это выражение\n",
    "#key += key * (key not in d)\n",
    "#приплюсовывает к значению key его же, в случае когда key not in d, в ином случае приплюсовывается 0.\n",
    "#Таким образом, если ключа нет в словаре то выражение вычисляется как:\n",
    "#key += key * 1\n",
    "#Когда ключ уже есть:\n",
    "#key += key * 0\n",
    "#key += 0 # к значению добавляется 0, т.е. оно не изменяется\n",
    "#Это происходит из-за того что результат вычисления выражения key not in d может быть только True или False, которые затем при попытке умножения конвертируются True -> 1, False -> 0.\n",
    "#Далее значение просто добавляется в список    "
   ]
  },
  {
   "cell_type": "code",
   "execution_count": null,
   "metadata": {},
   "outputs": [],
   "source": [
    "#2\n",
    "def update_dictionary(d, key, value):\n",
    "    if key in d:\n",
    "        d[key] += [value]\n",
    "    elif 2 * key in d:\n",
    "        d[2 * key] += [value]\n",
    "    else:\n",
    "        d[2 * key] = [value]"
   ]
  },
  {
   "cell_type": "code",
   "execution_count": 33,
   "metadata": {},
   "outputs": [
    {
     "name": "stdout",
     "output_type": "stream",
     "text": [
      "кк Кк лл Ен уЕ еН мм ВВ мм Ыв\n",
      "уе 1\n",
      "ен 2\n",
      "лл 1\n",
      "кк 2\n",
      "вв 1\n",
      "ыв 1\n",
      "мм 2\n"
     ]
    }
   ],
   "source": [
    "s = [i.lower() for i in input().split()]\n",
    "k = set()\n",
    "for i in s:\n",
    "    k.add(i)\n",
    "for j in k:\n",
    "    if j in k:\n",
    "        p = s.count(j)\n",
    "        print(j, p)"
   ]
  },
  {
   "cell_type": "code",
   "execution_count": 24,
   "metadata": {},
   "outputs": [
    {
     "data": {
      "text/plain": [
       "['rr', 't', 'tt', 'r', 'ee', 'ff', 'g', 'rr', 'ee', 'rr', 'tt', 'tt']"
      ]
     },
     "execution_count": 24,
     "metadata": {},
     "output_type": "execute_result"
    }
   ],
   "source": [
    "#Your code complexity score is 1.0 (best for this step is 1.0)\n",
    "exec(\"\"\"s = input().lower().split()\n",
    "for i in set(s):\n",
    "    print(i, s.count(i))\"\"\")"
   ]
  },
  {
   "cell_type": "code",
   "execution_count": 25,
   "metadata": {},
   "outputs": [
    {
     "data": {
      "text/plain": [
       "{'ee', 'ff', 'g', 'r', 'rr', 't', 'tt'}"
      ]
     },
     "execution_count": 25,
     "metadata": {},
     "output_type": "execute_result"
    }
   ],
   "source": [
    "#Your code complexity score is 7.07 \n",
    "s = input().lower().split()\n",
    "for i in set(s):\n",
    "    print(i, s.count(i))"
   ]
  },
  {
   "cell_type": "code",
   "execution_count": null,
   "metadata": {},
   "outputs": [],
   "source": [
    "# Мое решение с exec Your code complexity score is 1.0 (best for this step is 1.0)\n",
    "exec(\"\"\"\n",
    "s = [i.lower() for i in input().split()]\n",
    "k = set()\n",
    "for i in s:\n",
    "    k.add(i)\n",
    "for j in k:\n",
    "    if j in k:\n",
    "        p = s.count(j)\n",
    "        print(j, p)\"\"\")"
   ]
  },
  {
   "cell_type": "code",
   "execution_count": 2,
   "metadata": {},
   "outputs": [
    {
     "name": "stdout",
     "output_type": "stream",
     "text": [
      "2\n",
      "1\n",
      "3\n",
      "3\n",
      "5\n"
     ]
    }
   ],
   "source": [
    "#Мое Your code complexity score is 11.36 (best for this step is 9.49)\n",
    "# Считайте, что функция f(x) уже определена выше. Определять её отдельно не требуется.\n",
    "n, k = int(input()), {}\n",
    "for i in range(n):\n",
    "    x = int(input())\n",
    "    if x in k:\n",
    "        print(k[x])\n",
    "    else:\n",
    "        k.update({x : f(x)})\n",
    "        print(k[x])"
   ]
  },
  {
   "cell_type": "code",
   "execution_count": 3,
   "metadata": {},
   "outputs": [
    {
     "data": {
      "text/plain": [
       "{1: 3, 3: 5}"
      ]
     },
     "execution_count": 3,
     "metadata": {},
     "output_type": "execute_result"
    }
   ],
   "source": [
    "#Congratulations! You have improved the best code complexity for this step, your score is 8.77 (less is better).\n",
    "# Считайте, что функция f(x) уже определена выше. Определять её отдельно не требуется.\n",
    "n,d,i = int(input()), {},0\n",
    "while i < n:\n",
    "    key, i  = int(input()), i+1\n",
    "    if key not in d:\n",
    "        d[key] = f(key)\n",
    "    print(d[key])"
   ]
  },
  {
   "cell_type": "code",
   "execution_count": 19,
   "metadata": {},
   "outputs": [],
   "source": [
    "with open(r'C:\\Users\\loshkarev-vm\\Desktop\\dataset_3363_2.txt', 'r', encoding='utf-8') as k:\n",
    "    s = k.readline().strip()\n",
    "    x,y,j,l = [],[],0,''\n",
    "    for i in range(0, len(s)):\n",
    "        if s[i].isalpha():\n",
    "            y.append(s[i])\n",
    "    for i in range(len(s)-1,-1,-1):    \n",
    "        u = i-j\n",
    "        if u <= 0:\n",
    "            x.reverse()\n",
    "            break\n",
    "        if s[u].isdigit():\n",
    "            if s[u-1].isdigit() and s[u-2].isalpha():\n",
    "                x.append(int(str(s[u-1])+str(s[u])))\n",
    "                j+=2\n",
    "            elif s[u-1].isalpha():\n",
    "                x.append(int(str(s[u])))\n",
    "    for i in range(0, len(x)):\n",
    "        z = y[i]*x[i]\n",
    "        l += z\n",
    "with open(r'C:\\Users\\loshkarev-vm\\Desktop\\dataset_3363_21.txt', 'w') as out:\n",
    "    out.write(str(l))"
   ]
  },
  {
   "cell_type": "code",
   "execution_count": 20,
   "metadata": {},
   "outputs": [
    {
     "name": "stdout",
     "output_type": "stream",
     "text": [
      "NNNNNNNNNbbbbbbbbbbbbbbaRRRRKKKKKKAAAAAAAAAAAATTTTVVVVVYYYYkkkkkkkkkkkkkuuuuuuuuuuuuuuuuuuvvvvvvvvvvvQQQQQQQQQQQQQQQQQUUUUUUUUUUUUUUUUUQQQQQQQQQQkkkkkkkkkkkkkDfffffffffffffggggggggggggggRRRRRRRRRUUUUUUUUUUUUUUUUUUUUUUUUUUUUUUUUUUUUUUUUUUUUUUUUUUUUUUUUUUUUUUUUUUUUUUUUUUUUUUUUUUUUUUUUUUUUUUUUUUUU"
     ]
    }
   ],
   "source": [
    "# 1\n",
    "with open(r'C:\\Users\\loshkarev-vm\\Desktop\\dataset_3363_2.txt', 'r', encoding='utf-8') as f:\n",
    "    s = f.readline().strip()\n",
    "i = 0\n",
    "while i < len(s):\n",
    "    j = i + 1\n",
    "    while j < len(s) and s[j].isdigit():\n",
    "        j += 1\n",
    "    print(s[i] * int(s[i+1:j]), end='')\n",
    "    i = j\n",
    "\n",
    "\n",
    "#Первый символ - гарантированно буква.\n",
    "#Перебираем все последующие, пока они цифровые или пока не достигнут конец строки.\n",
    "#После внутреннего цикла j либо указывает на следующую букву, либо на конец строки. В обоих случаях между s[i] и s[j] - цифры, составляющие нужное нам число повторов символа s[i].\n",
    "#Печатаем символ нужное число раз, присваиваем i индекс следующей буквы для новой итерации цикла."
   ]
  },
  {
   "cell_type": "code",
   "execution_count": 38,
   "metadata": {},
   "outputs": [
    {
     "name": "stdout",
     "output_type": "stream",
     "text": [
      "abc a bCd bC AbC BC BCD bcd ABC ab aBc Bcd Bc bc abc abc bcd bcd Bcd\n",
      "bcd 7\n"
     ]
    }
   ],
   "source": [
    "s = input().lower().split()\n",
    "s.sort()\n",
    "x,y=[],[]\n",
    "for i in set(s):\n",
    "    x.append(i)\n",
    "    y.append(s.count(i))\n",
    "maxY = max(y)\n",
    "j = y.index(maxY)\n",
    "print(x[j], y[j])    "
   ]
  },
  {
   "cell_type": "code",
   "execution_count": 34,
   "metadata": {},
   "outputs": [
    {
     "data": {
      "text/plain": [
       "['abc', 'bcd', 'ab', 'a', 'bc']"
      ]
     },
     "execution_count": 34,
     "metadata": {},
     "output_type": "execute_result"
    }
   ],
   "source": [
    "x"
   ]
  },
  {
   "cell_type": "code",
   "execution_count": 35,
   "metadata": {},
   "outputs": [
    {
     "data": {
      "text/plain": [
       "[6, 7, 1, 1, 4]"
      ]
     },
     "execution_count": 35,
     "metadata": {},
     "output_type": "execute_result"
    }
   ],
   "source": [
    "y"
   ]
  },
  {
   "cell_type": "code",
   "execution_count": 43,
   "metadata": {},
   "outputs": [
    {
     "name": "stdout",
     "output_type": "stream",
     "text": [
      "x 7\n"
     ]
    }
   ],
   "source": [
    "with open(r'C:\\Users\\loshkarev-vm\\Desktop\\dataset_3363_3.txt', 'r', encoding='utf-8') as k:\n",
    "    s = k.read().replace('\\n','').lower().split()  # Записываю в одну строку все строки из датасета, убирая перенос строки \\n\n",
    "    s.sort()                                # Сортирую строку по лексикографическому смыслу\n",
    "    x,y=[],[]\n",
    "    for i in set(s):                      #Прохожу циклом по сету(в сете убираются все дубли) и добавляю символ и кол-во его повторений в:\n",
    "        x.append(i)                      # сюда символ\n",
    "        y.append(s.count(i))      # сюда количество повторов символа\n",
    "    maxY = max(y)                   # нахожу в списке с кол-вом повторов самое большое число\n",
    "    j = y.index(maxY)               # ищу в этом же списке первый встречающийся индекс максимального числа\n",
    "    print(x[j], y[j])                       # вывожу символ с найденным индексом и само число с этим же индексом"
   ]
  },
  {
   "cell_type": "code",
   "execution_count": null,
   "metadata": {},
   "outputs": [],
   "source": [
    "#1\n",
    "with open('dataset_3363_3.txt','r') as f:\n",
    "    st = f.read().split()\n",
    "\n",
    "d = {w: st.count(w) for w in st}\n",
    "i = sorted(d, key=d.get, reverse=True)[0]\n",
    "print(i, d[i])"
   ]
  },
  {
   "cell_type": "code",
   "execution_count": null,
   "metadata": {},
   "outputs": [],
   "source": [
    "#2\n",
    "with open('1.txt') as string:\n",
    "    s1 = string.read().replace('\\n', ' ').lower().split()\n",
    "a = max(s1, key=s1.count)\n",
    "print(a, s1.count(a))"
   ]
  },
  {
   "cell_type": "code",
   "execution_count": 2,
   "metadata": {},
   "outputs": [
    {
     "name": "stdout",
     "output_type": "stream",
     "text": [
      "58.66666667\n",
      "51.66666667\n",
      "63.00000000\n",
      "60.66666667\n",
      "42.33333333\n",
      "48.00000000\n",
      "56.66666667\n",
      "67.33333333\n",
      "46.33333333\n",
      "53.00000000\n",
      "65.66666667\n",
      "73.66666667\n",
      "62.66666667\n",
      "50.66666667\n",
      "64.33333333\n",
      "65.66666667\n",
      "42.66666667\n",
      "55.33333333\n",
      "64.33333333\n",
      "70.00000000\n",
      "67.00000000\n",
      "73.00000000\n",
      "66.00000000\n",
      "64.33333333\n",
      "71.66666667\n",
      "51.33333333\n",
      "72.33333333\n",
      "83.66666667\n",
      "79.33333333\n",
      "46.00000000\n",
      "38.00000000\n",
      "69.33333333\n",
      "80.00000000\n",
      "82.33333333\n",
      "60.00000000\n",
      "68.66666667\n",
      "67.66666667\n",
      "50.00000000\n",
      "86.66666667\n",
      "65.00000000\n",
      "55.33333333\n",
      "53.33333333\n",
      "72.33333333\n",
      "50.66666667\n",
      "52.00000000\n",
      "48.33333333\n",
      "63.66666667\n",
      "52.33333333\n",
      "46.00000000\n",
      "84.00000000\n",
      "47.00000000\n",
      "68.00000000\n",
      "43.66666667\n",
      "64.00000000\n",
      "78.33333333\n",
      "87.00000000\n",
      "67.66666667\n",
      "55.33333333\n",
      "65.33333333\n",
      "64.33333333\n",
      "59.66666667\n",
      "58.00000000\n",
      "47.33333333\n",
      "54.66666667\n",
      "48.66666667\n",
      "50.33333333\n",
      "58.00000000\n",
      "74.00000000\n",
      "68.00000000\n",
      "65.33333333\n",
      "55.33333333\n",
      "61.00000000\n",
      "53.00000000\n",
      "83.66666667\n",
      "44.00000000\n",
      "52.00000000\n",
      "89.33333333\n",
      "40.66666667\n",
      "40.00000000\n",
      "56.00000000\n",
      "60.00000000\n",
      "43.33333333\n",
      "46.33333333\n",
      "67.66666667\n",
      "52.33333333\n",
      "78.33333333\n",
      "61.66666667\n",
      "59.66666667\n",
      "67.33333333\n",
      "75.00000000\n",
      "86.66666667\n",
      "45.00000000\n",
      "52.00000000\n",
      "77.00000000\n",
      "56.66666667\n",
      "67.00000000\n",
      "36.66666667\n",
      "88.00000000\n",
      "39.00000000\n",
      "67.33333333\n",
      "48.00000000\n",
      "49.33333333\n",
      "59.00000000\n",
      "55.66666667\n",
      "37.00000000\n",
      "51.66666667\n",
      "52.66666667\n",
      "66.00000000\n",
      "58.00000000\n",
      "60.66666667\n",
      "48.33333333\n",
      "57.00000000\n",
      "73.33333333\n",
      "50.00000000\n",
      "63.00000000\n",
      "49.33333333\n",
      "59.66666667\n",
      "74.33333333\n",
      "60.00000000\n",
      "76.66666667\n",
      "63.00000000\n",
      "67.00000000\n",
      "34.66666667\n",
      "89.33333333\n",
      "80.33333333\n",
      "80.66666667\n",
      "49.00000000\n",
      "70.00000000\n",
      "44.33333333\n",
      "48.00000000\n",
      "90.66666667\n",
      "67.33333333\n",
      "86.66666667\n",
      "62.66666667\n",
      "57.66666667\n",
      "66.00000000\n",
      "60.66666667\n",
      "43.66666667\n",
      "60.46376812 61.24637681 61.35507246 "
     ]
    }
   ],
   "source": [
    "with open (r'C:\\Users\\loshkarev-vm\\Desktop\\dataset_3363_4.txt', 'r', encoding='utf-8') as s:\n",
    "    l = s.readline().split(';')                      # считываю из файла одну строку, чтобы узнать ее длину, для создания пустого списка\n",
    "    m = [0 for i in range(1, len(l))]                # создаю пустой список, в который буду записывать суммы по каждому предмету всех уч-ков\n",
    "    n = 0                                            # эта переменная будет считать количество строк в датасете\n",
    "    for line in s:                                   # циклом иду и читаю строку за строкой\n",
    "        line = line.split(';')                       # прочитанную строку разделяю split-ом       \n",
    "        z = 0                                        # эта переменная будет записывать сумму баллов для одного ученика по всем предметам      \n",
    "        for i in range(1, len(line)):                # циклом иду по строке и вычитываю каждую оценку \n",
    "            z += int(line[i])                        # плюсую оценки для одного ученика (напр, 85+92+78)\n",
    "            m[i - 1] += int(line[i])                 # здесь в список плюсую оценки по каждому предмету для всех учеников [оц1, оц2, оц3]\n",
    "        y = (z / (len(line)-1))                      # считаю среднее для одного ученика по всем его оценкам\n",
    "        n += 1                                       # здесь происходит подсчет прочитанной строки\n",
    "        print(\"%.8f\" % y)                            # вывожу инфо о среднем балле ученика ((\"%.8f\" % y) задает точность после нуля)\n",
    "    for i in m:                                      # циклом иду по списку всех сумм оценок всех учеников\n",
    "        print(\"%.8f\" % (i / n), end=' ')             # вывожу среднее по предметам  всех учеников\n"
   ]
  },
  {
   "cell_type": "code",
   "execution_count": 21,
   "metadata": {},
   "outputs": [
    {
     "data": {
      "text/plain": [
       "[243, 252, 257]"
      ]
     },
     "execution_count": 21,
     "metadata": {},
     "output_type": "execute_result"
    }
   ],
   "source": [
    "#1\n",
    "st = [x.split(';') for x in open('fl.txt').readlines()]\n",
    "print(*[sum([int(y) for y in x[1:]])/3 for x in st], sep='\\n')\n",
    "print(*[sum([int(y) for y in [st[x][z] for x in range(len(st))]])/len(st) for z in range(1,4)])"
   ]
  },
  {
   "cell_type": "code",
   "execution_count": 2,
   "metadata": {},
   "outputs": [
    {
     "name": "stdout",
     "output_type": "stream",
     "text": [
      "10\n",
      "62.83185307179586\n"
     ]
    }
   ],
   "source": [
    "# Мое Your code complexity score is 3.16\n",
    "import math\n",
    "r = float(input())\n",
    "print((2 * math.pi) * r)\n"
   ]
  },
  {
   "cell_type": "code",
   "execution_count": null,
   "metadata": {},
   "outputs": [],
   "source": [
    "#Мое my_solution.py Your code complexity score is 4.0\n",
    "import sys\n",
    "for i in range(1, len(sys.argv)):\n",
    "    print(sys.argv[i], end=' ')"
   ]
  },
  {
   "cell_type": "code",
   "execution_count": null,
   "metadata": {},
   "outputs": [],
   "source": [
    "#Your code complexity score is 1.0 my_solution.py\n",
    "import sys\n",
    "print(*sys.argv[1:])"
   ]
  },
  {
   "cell_type": "code",
   "execution_count": null,
   "metadata": {},
   "outputs": [],
   "source": [
    "#2\n",
    "import sys\n",
    "print(' '.join(sys.argv[1:]))"
   ]
  },
  {
   "cell_type": "code",
   "execution_count": 21,
   "metadata": {},
   "outputs": [
    {
     "name": "stdout",
     "output_type": "stream",
     "text": [
      "242\n"
     ]
    }
   ],
   "source": [
    "import requests\n",
    "r = requests.get('https://stepic.org/media/attachments/course67/3.6.2/050.txt')\n",
    "print(len(r.text.splitlines()))"
   ]
  },
  {
   "cell_type": "code",
   "execution_count": 3,
   "metadata": {},
   "outputs": [
    {
     "name": "stdout",
     "output_type": "stream",
     "text": [
      "We are the champions, my friends,\n",
      "And we'll keep on fighting 'til the end.\n",
      "We are the champions.\n",
      "We are the champions.\n",
      "No time for losers\n",
      "'Cause we are the champions of the world.\n"
     ]
    }
   ],
   "source": [
    "import requests\n",
    "r = requests.get('https://stepic.org/media/attachments/course67/3.6.3/699991.txt')\n",
    "w = True\n",
    "s = ''\n",
    "while w is True:\n",
    "    s = r.text\n",
    "    r = requests.get('https://stepic.org/media/attachments/course67/3.6.3/' + s)\n",
    "    if 'We' in r.text:\n",
    "        print(r.text)\n",
    "        w = False\n",
    "    "
   ]
  },
  {
   "cell_type": "code",
   "execution_count": 1,
   "metadata": {},
   "outputs": [
    {
     "name": "stdout",
     "output_type": "stream",
     "text": [
      "3\n",
      "Спартак;1;ЦСКА;1\n",
      "ЦСКА;0;Зенит;2\n",
      "Зенит;3;Спартак;1\n",
      "Спартак: 2 0 1 1 1\n",
      "ЦСКА: 2 0 1 1 1\n",
      "Зенит: 2 2 0 0 6\n"
     ]
    }
   ],
   "source": [
    "# Мое (Your code complexity score is 38.09 (best for this step is 19.75))\n",
    "\n",
    "n = int(input())                                                   #Вводим количество завершенных игр\n",
    "tableRes = {}                                                      #Создаем словарь, куда записываем результаты игр\n",
    "while n != 0:                                                      #Вводим результаты игр, по одному за итерацию\n",
    "    gameRes = input().split(';')\n",
    "    if gameRes[1] > gameRes[3]:                                    # В соответствии с результатом игры даем очки командам:\n",
    "        res1 = 3                                                   # 3 очка - победа\n",
    "        res2 = 0                                                   # 1 очко - ничья\n",
    "    elif gameRes[1] == gameRes[3]:                                 # 0 очков - поражение\n",
    "        res1 = 1                                                   #\n",
    "        res2 = 1                                                   #\n",
    "    else:                                                          #\n",
    "        res1 = 0                                                   #\n",
    "        res2 = 3                                                   #\n",
    "    if gameRes[0] in tableRes and gameRes[2] not in tableRes:      # Проверяем есть ли уже команда в словаре:\n",
    "        tableRes[gameRes[0]].append(res1)                          # да, то присваиваем еще один результат игры (очки за игру)\n",
    "        tableRes.update({gameRes[2]:[res2]})                       # нет, вписываем эту команду в словарь+кол-во очков за игру\n",
    "    elif gameRes[0] not in tableRes and gameRes[2] in tableRes:    #\n",
    "        tableRes[gameRes[2]].append(res2)                          #\n",
    "        tableRes.update({gameRes[0]:[res1]})                       #\n",
    "    elif gameRes[0] in tableRes and gameRes[2] in tableRes:        #\n",
    "        tableRes[gameRes[0]].append(res1)                          #\n",
    "        tableRes[gameRes[2]].append(res2)                          #\n",
    "    else:                                                          #\n",
    "        tableRes.update({gameRes[0]:[res1], gameRes[2]:[res2]})    # Если команды еще не добавлялись в словарь, добавляем обе\n",
    "    n -= 1                                                         # \n",
    "for key in tableRes:                                               # Циклом считаем для каждой команды результаты по ключу\n",
    "    count = 0                                                      # Кол-во очков за все игры\n",
    "    win = 0                                                        # Кол-во побед\n",
    "    draw = 0                                                       # Кол-во ничьих\n",
    "    lose = 0                                                       # Кол-во поражений\n",
    "    s = tableRes[key]                                              # Список с очками за все игры команды по ключу из словаря\n",
    "    for i in range(len(s)):                                        #\n",
    "        count += s[i]                                              # Складываем очки\n",
    "        if len(s) > 1:                                             # Если кол-во игр было более одной, то:\n",
    "            if s[i] == 3:                                          # Считаем кол-во побед сравнивая значения из списка s...\n",
    "                win += 1                                           # ...с очками за победу, поражение и ничью\n",
    "            elif s[i] == 1:                                        # Считаем кол-во ничьих\n",
    "                draw += 1                                          #\n",
    "            else:                                                  # Считаем кол-во поражений\n",
    "                lose += 1                                          #\n",
    "        elif len(s) == 1:                                          # Если игра была одна, то:\n",
    "            if s[i] == 3:                                          # Делаем то же, что и выше\n",
    "                win += 1                                           #\n",
    "            elif s[i] == 1:                                        #\n",
    "                draw += 1                                          #\n",
    "            else:                                                  #\n",
    "                lose += 1                                          #\n",
    "    print('{}:{} {} {} {} {} '.format(key, len(s), win, draw, lose, count))# Выводим результат команды (Название: кол-во игр, побед,..\n",
    "                                                                   # ..ничьих, поражений, общее кол-во очков)"
   ]
  },
  {
   "cell_type": "code",
   "execution_count": 21,
   "metadata": {},
   "outputs": [
    {
     "data": {
      "text/plain": [
       "(['3', '3'], ['1', '1'])"
      ]
     },
     "execution_count": 21,
     "metadata": {},
     "output_type": "execute_result"
    }
   ],
   "source": [
    "Спартак;1;ЦСКА;1\n",
    "ЦСКА;0;Зенит;2\n",
    "Зенит;3;Спартак;1\n",
    "\n"
   ]
  },
  {
   "cell_type": "code",
   "execution_count": 67,
   "metadata": {},
   "outputs": [
    {
     "data": {
      "text/plain": [
       "{'ЦСКА': [0, 1], 'Зенит': [3], 'Спартак': [1]}"
      ]
     },
     "execution_count": 67,
     "metadata": {},
     "output_type": "execute_result"
    }
   ],
   "source": [
    "#Your code complexity score is 22.41 (best for this step is 19.75).\n",
    "a = int(input())\n",
    "k = []\n",
    "d = dict()\n",
    "for i in range(a):\n",
    "    k += [[j for j in input().split(';')]]\n",
    "\n",
    "for i in k:\n",
    "    d[i[0]] = []\n",
    "    d[i[2]] = []\n",
    "\n",
    "for i in k:\n",
    "    if i[1] < i[3]:\n",
    "        d[i[0]] += [0]\n",
    "        d[i[2]] += [3]\n",
    "    elif i[1] > i[3]:\n",
    "        d[i[0]] += [3]\n",
    "        d[i[2]] += [0]\n",
    "    else:\n",
    "        d[i[0]] += [1]\n",
    "        d[i[2]] += [1]\n",
    "\n",
    "\n",
    "for i in d.keys():\n",
    "    summ = sum(d[i])\n",
    "    print(i,end=':')\n",
    "    print(len(d[i]),d[i].count(3),d[i].count(1),d[i].count(0),summ)"
   ]
  },
  {
   "cell_type": "code",
   "execution_count": 75,
   "metadata": {},
   "outputs": [
    {
     "data": {
      "text/plain": [
       "[1]"
      ]
     },
     "execution_count": 75,
     "metadata": {},
     "output_type": "execute_result"
    }
   ],
   "source": [
    "#Your code complexity score is 28.51 (best for this step is 19.75).\n",
    "n, g, w, d, l, p = int(input()), 0, 0, 0, 0, 0\n",
    "a = [[i for i in input().split(';')] for j in range(n)]\n",
    "b = {a[i][j]: [] for i in range(n) for j in range(0, 3, 2)}\n",
    "for i in b:\n",
    "    for j in range(n):\n",
    "        g += a[j].count(i)\n",
    "        if i in a[j]:\n",
    "            if a[j][a[j].index(i) + 1] > a[j][a[j].index(i) - 1]:\n",
    "                w += 1\n",
    "                p += 3\n",
    "            elif a[j][a[j].index(i) + 1] < a[j][a[j].index(i) - 1]:\n",
    "                l += 1\n",
    "            else:\n",
    "                d += 1\n",
    "                p += 1\n",
    "    b[i] = [str(g), str(w), str(d), str(l), str(p)]\n",
    "    g, w, d, l, p = 0, 0, 0, 0, 0\n",
    "for i in b.keys():\n",
    "    print(i+':', ' '.join(b[i]))"
   ]
  },
  {
   "cell_type": "code",
   "execution_count": 2,
   "metadata": {},
   "outputs": [
    {
     "name": "stdout",
     "output_type": "stream",
     "text": [
      "2\n",
      "Спартак;1;ЦСКА;1\n",
      "Зенит;3;Спартак;1\n",
      "Спартак:2 0 1 1 1 \n",
      "ЦСКА:1 0 1 0 1 \n",
      "Зенит:1 1 0 0 3 \n"
     ]
    }
   ],
   "source": [
    "# Через классы (ООП) Your code complexity score is 19.95 (best for this step is 1.0).\n",
    "from collections import defaultdict\n",
    "\n",
    "\n",
    "class Stat:\n",
    "    \"\"\"Team's statistics.\"\"\"\n",
    "\n",
    "    def __init__(self):\n",
    "        self.wins = 0\n",
    "        self.draws = 0\n",
    "        self.losses = 0\n",
    "\n",
    "    def update(self, goals_score, goals_miss):\n",
    "        \"\"\"Update statistics.\"\"\"\n",
    "        goals_diff = int(goals_score) - int(goals_miss)\n",
    "        self.wins += int(goals_diff > 0)\n",
    "        self.draws += int(goals_diff == 0)\n",
    "        self.losses += int(goals_diff < 0)\n",
    "\n",
    "    @property\n",
    "    def games(self):\n",
    "        \"\"\"Games number.\"\"\"\n",
    "        return self.wins + self.draws + self.losses\n",
    "\n",
    "    @property\n",
    "    def points(self):\n",
    "        \"\"\"Points.\"\"\"\n",
    "        return self.wins * 3 + self.draws\n",
    "\n",
    "    def __repr__(self):\n",
    "        return f'{self.games} {self.wins} {self.draws} {self.losses} {self.points}'\n",
    "\n",
    "\n",
    "stats = defaultdict(Stat)\n",
    "games_number = int(input())\n",
    "for _ in range(games_number):\n",
    "    team1, score1, team2, score2 = input().split(';')\n",
    "    stats[team1].update(goals_score=score1, goals_miss=score2)\n",
    "    stats[team2].update(goals_score=score2, goals_miss=score1)\n",
    "\n",
    "for team, stat in stats.items():\n",
    "    print(f'{team}:{stat}')"
   ]
  },
  {
   "cell_type": "code",
   "execution_count": 47,
   "metadata": {},
   "outputs": [
    {
     "name": "stdout",
     "output_type": "stream",
     "text": [
      "abcd\n",
      "*d%#\n",
      "abacabadaba\n",
      "#*%*d*%\n",
      "*d*%*d*#*d*\n",
      "dacabac\n"
     ]
    }
   ],
   "source": [
    "#Мое Your code complexity score is 18.49 (best for this step is 8.06)\n",
    "a = input()                      # Вводим строку символов\n",
    "b = input()                      # Вводим символы, которые кодируют первую строку\n",
    "d, co, enco = {}, '', ''         # Словарь, строки куда складываем кодированные/декодированные символы\n",
    "for i in range(len(a)):          # Цикл для сборки словаря\n",
    "    d.update({a[i] : b[i]})      # Собираем словарь (символ: кодированный символ)\n",
    "code = input()                   # Вводим строку для кодировки\n",
    "for i in code:                   # Проходим по строке\n",
    "    if i in d.keys():            # Ищем в словаре символы из строки\n",
    "        co += d[i]               # Если есть символ, то заменяем его на кодированный и добавляем в строку\n",
    "encode = input()                 # Вводим строку для декодирования\n",
    "for i in encode:                 # Проход по строке\n",
    "    for k, v in d.items():       # Циклом берем пару ключ:значение из словаря\n",
    "        if v == i:               # Сравниваем значение из строки с значением из словаря, если совпадает,\n",
    "            enco += k            # то добавляем ключ в строку\n",
    "print(co)                        # Выводим закодированную строку\n",
    "print(enco)                      # Выводим декодированную строку"
   ]
  },
  {
   "cell_type": "code",
   "execution_count": 44,
   "metadata": {},
   "outputs": [
    {
     "ename": "TypeError",
     "evalue": "'builtin_function_or_method' object is not subscriptable",
     "output_type": "error",
     "traceback": [
      "\u001b[1;31m---------------------------------------------------------------------------\u001b[0m",
      "\u001b[1;31mTypeError\u001b[0m                                 Traceback (most recent call last)",
      "\u001b[1;32m<ipython-input-44-5e339d635671>\u001b[0m in \u001b[0;36m<module>\u001b[1;34m()\u001b[0m\n\u001b[1;32m----> 1\u001b[1;33m \u001b[0mkey\u001b[0m\u001b[1;33m(\u001b[0m\u001b[0md\u001b[0m\u001b[1;33m.\u001b[0m\u001b[0mvalues\u001b[0m\u001b[1;33m[\u001b[0m\u001b[1;34m'#'\u001b[0m\u001b[1;33m]\u001b[0m\u001b[1;33m)\u001b[0m\u001b[1;33m\u001b[0m\u001b[0m\n\u001b[0m",
      "\u001b[1;31mTypeError\u001b[0m: 'builtin_function_or_method' object is not subscriptable"
     ]
    }
   ],
   "source": [
    "#1\n",
    "a,b,c,d=input(),input(),input(),input()\n",
    "print(''.join(b[a.index(i)] for i in c))\n",
    "print(''.join(a[b.index(i)] for i in d))"
   ]
  },
  {
   "cell_type": "code",
   "execution_count": null,
   "metadata": {},
   "outputs": [],
   "source": [
    "#2\n",
    "source, dest = input(), input()\n",
    "decoded = input()\n",
    "encoded = input()\n",
    "\n",
    "print(decoded.translate(str.maketrans(source, dest)))\n",
    "print(encoded.translate(str.maketrans(dest, source)))"
   ]
  },
  {
   "cell_type": "code",
   "execution_count": null,
   "metadata": {},
   "outputs": [],
   "source": [
    "#3 Your code complexity score is 6.08 (best for this step is 6.08).\n",
    "# Считываем 4 строки в цикле\n",
    "original, coding, first_string, second_string = (input() for i in range(4))\n",
    "\n",
    "# По индексу символа из оригинала берём символ на замену из кодировки,\n",
    "# для каждого символа из строки, которую нужно закодировать\n",
    "print(*[coding[original.find(symbol)] for symbol in first_string], sep='')\n",
    "# Аналогично, только наоборот :D\n",
    "print(*[original[coding.find(symbol)] for symbol in second_string], sep='')"
   ]
  },
  {
   "cell_type": "code",
   "execution_count": null,
   "metadata": {},
   "outputs": [],
   "source": [
    "#4 Your code complexity score is 9.06 (best for this step is 6.08).\n",
    "a, b, c, d = (input() for i in range(4))\n",
    "print(  ''.join(dict(zip(a, b))[i] for i in c), '\\n', \n",
    "        ''.join(dict(zip(b, a))[i] for i in d)\n",
    "     )"
   ]
  },
  {
   "cell_type": "code",
   "execution_count": 17,
   "metadata": {},
   "outputs": [
    {
     "name": "stdout",
     "output_type": "stream",
     "text": [
      "3\n",
      "a\n",
      "bb\n",
      "cCc\n",
      "3\n",
      "a bb aab aba ccc\n",
      "c bb aaa\n",
      "a Bb AaB aBa Ccc\n",
      "aaa\n",
      "AaB\n",
      "c\n",
      "aab\n",
      "aBa\n",
      "aba\n"
     ]
    }
   ],
   "source": [
    "# Мое Your code complexity score is 20.9 (best for this step is 15.13)\n",
    "slovar = []\n",
    "spisok = set()\n",
    "d = int(input())\n",
    "for i in range(d):\n",
    "    slovo = input().lower()\n",
    "    slovar.append(slovo)\n",
    "l = int(input())\n",
    "for j in range(l):\n",
    "    stroka = input().split()\n",
    "    for n in stroka:\n",
    "        if n.lower() not in slovar:            \n",
    "            spisok.add(n)\n",
    "for k in spisok:\n",
    "    print(k)"
   ]
  },
  {
   "cell_type": "code",
   "execution_count": 3,
   "metadata": {},
   "outputs": [
    {
     "name": "stdout",
     "output_type": "stream",
     "text": [
      "3\n",
      "п п р д\n",
      "са ы \n",
      "а ы ы\n",
      "р а в в\n"
     ]
    },
    {
     "ename": "ValueError",
     "evalue": "invalid literal for int() with base 10: 'р а в в'",
     "output_type": "error",
     "traceback": [
      "\u001b[1;31m---------------------------------------------------------------------------\u001b[0m",
      "\u001b[1;31mValueError\u001b[0m                                Traceback (most recent call last)",
      "\u001b[1;32m<ipython-input-3-22ced29442a8>\u001b[0m in \u001b[0;36m<module>\u001b[1;34m()\u001b[0m\n\u001b[0;32m      2\u001b[0m \u001b[0ma\u001b[0m \u001b[1;33m=\u001b[0m \u001b[1;33m[\u001b[0m\u001b[0minput\u001b[0m\u001b[1;33m(\u001b[0m\u001b[1;33m)\u001b[0m\u001b[1;33m.\u001b[0m\u001b[0mlower\u001b[0m\u001b[1;33m(\u001b[0m\u001b[1;33m)\u001b[0m \u001b[1;32mfor\u001b[0m \u001b[0m_\u001b[0m \u001b[1;32min\u001b[0m \u001b[0mrange\u001b[0m\u001b[1;33m(\u001b[0m\u001b[0mint\u001b[0m\u001b[1;33m(\u001b[0m\u001b[0minput\u001b[0m\u001b[1;33m(\u001b[0m\u001b[1;33m)\u001b[0m\u001b[1;33m)\u001b[0m\u001b[1;33m)\u001b[0m\u001b[1;33m]\u001b[0m\u001b[1;33m\u001b[0m\u001b[0m\n\u001b[0;32m      3\u001b[0m \u001b[0mb\u001b[0m \u001b[1;33m=\u001b[0m \u001b[0mset\u001b[0m\u001b[1;33m(\u001b[0m\u001b[1;33m)\u001b[0m\u001b[1;33m\u001b[0m\u001b[0m\n\u001b[1;32m----> 4\u001b[1;33m \u001b[1;32mfor\u001b[0m \u001b[0m__\u001b[0m \u001b[1;32min\u001b[0m \u001b[0mrange\u001b[0m\u001b[1;33m(\u001b[0m\u001b[0mint\u001b[0m\u001b[1;33m(\u001b[0m\u001b[0minput\u001b[0m\u001b[1;33m(\u001b[0m\u001b[1;33m)\u001b[0m\u001b[1;33m)\u001b[0m\u001b[1;33m)\u001b[0m\u001b[1;33m:\u001b[0m\u001b[1;33m\u001b[0m\u001b[0m\n\u001b[0m\u001b[0;32m      5\u001b[0m     \u001b[1;33m[\u001b[0m\u001b[0mb\u001b[0m\u001b[1;33m.\u001b[0m\u001b[0madd\u001b[0m\u001b[1;33m(\u001b[0m\u001b[0mi\u001b[0m\u001b[1;33m)\u001b[0m \u001b[1;32mfor\u001b[0m \u001b[0mi\u001b[0m \u001b[1;32min\u001b[0m \u001b[0minput\u001b[0m\u001b[1;33m(\u001b[0m\u001b[1;33m)\u001b[0m\u001b[1;33m.\u001b[0m\u001b[0mlower\u001b[0m\u001b[1;33m(\u001b[0m\u001b[1;33m)\u001b[0m\u001b[1;33m.\u001b[0m\u001b[0mstrip\u001b[0m\u001b[1;33m(\u001b[0m\u001b[1;33m)\u001b[0m\u001b[1;33m.\u001b[0m\u001b[0msplit\u001b[0m\u001b[1;33m(\u001b[0m\u001b[1;33m)\u001b[0m \u001b[1;32mif\u001b[0m \u001b[0mi\u001b[0m \u001b[1;32mnot\u001b[0m \u001b[1;32min\u001b[0m \u001b[0ma\u001b[0m\u001b[1;33m]\u001b[0m\u001b[1;33m\u001b[0m\u001b[0m\n\u001b[0;32m      6\u001b[0m \u001b[0mprint\u001b[0m\u001b[1;33m(\u001b[0m\u001b[1;34m'\\n'\u001b[0m\u001b[1;33m.\u001b[0m\u001b[0mjoin\u001b[0m\u001b[1;33m(\u001b[0m\u001b[0mb\u001b[0m\u001b[1;33m)\u001b[0m\u001b[1;33m)\u001b[0m\u001b[1;33m\u001b[0m\u001b[0m\n",
      "\u001b[1;31mValueError\u001b[0m: invalid literal for int() with base 10: 'р а в в'"
     ]
    }
   ],
   "source": [
    "#1 Your code complexity score is 19.13 (best for this step is 1.0).\n",
    "a = [input().lower() for _ in range(int(input()))]\n",
    "b = set()\n",
    "for __ in range(int(input())):\n",
    "    [b.add(i) for i in input().lower().strip().split() if i not in a]\n",
    "print('\\n'.join(b))"
   ]
  },
  {
   "cell_type": "code",
   "execution_count": 2,
   "metadata": {},
   "outputs": [
    {
     "data": {
      "text/plain": [
       "['a', 'bb', 'ccc']"
      ]
     },
     "execution_count": 2,
     "metadata": {},
     "output_type": "execute_result"
    }
   ],
   "source": [
    "#2 Your code complexity score is 18.14 (best for this step is 16.12).\n",
    "d = []\n",
    "for i in range(int(input())):\n",
    "    d.append(input().lower())\n",
    "for i in range(int(input())):\n",
    "    s = input().lower().split()\n",
    "    for word in s:\n",
    "        if word not in d:\n",
    "            print (word)\n",
    "            d.append(word)"
   ]
  },
  {
   "cell_type": "code",
   "execution_count": 3,
   "metadata": {},
   "outputs": [
    {
     "data": {
      "text/plain": [
       "{'aaa', 'aab', 'aba', 'c'}"
      ]
     },
     "execution_count": 3,
     "metadata": {},
     "output_type": "execute_result"
    }
   ],
   "source": [
    "#3 Congratulations! You have improved the best code complexity for this step, your score is 15.13 (less is better).\n",
    "d = set(input().lower() for _ in range(int(input())))\n",
    "l = set(' '.join(input().lower() for _ in range(int(input()))).split())\n",
    "print(*(l - d), sep='\\n')\n",
    "\n",
    "#Разница множеств."
   ]
  },
  {
   "cell_type": "code",
   "execution_count": 21,
   "metadata": {},
   "outputs": [
    {
     "name": "stdout",
     "output_type": "stream",
     "text": [
      "4\n",
      "север 10\n",
      "запад 20\n",
      "юг 30\n",
      "восток 40\n",
      "[20, -20]\n"
     ]
    }
   ],
   "source": [
    "#Мое Your code complexity score is 19.03 (best for this step is 1.0)\n",
    "n = 'север'\n",
    "s = 'юг'\n",
    "e = 'восток'\n",
    "w = 'запад'\n",
    "p1, p2 = 0, 0\n",
    "numberOfMoves = int(input())\n",
    "for i in range(numberOfMoves):\n",
    "    move = input().split()\n",
    "    if move[0] == n:\n",
    "        p2 += int(move[1])\n",
    "    elif move[0] == s:\n",
    "        p2 -= int(move[1])\n",
    "    elif move[0] == e:\n",
    "        p1 += int(move[1])\n",
    "    elif move[0] == w:\n",
    "        p1 -= int(move[1])\n",
    "print(p1, p2)"
   ]
  },
  {
   "cell_type": "code",
   "execution_count": 8,
   "metadata": {},
   "outputs": [
    {
     "data": {
      "text/plain": [
       "True"
      ]
     },
     "execution_count": 8,
     "metadata": {},
     "output_type": "execute_result"
    }
   ],
   "source": [
    "#1 Your code complexity score is 9.49 (less is better).\n",
    "# put your python code here\n",
    "d = {'север':0,'юг':0,'восток':0,'запад':0}\n",
    "\n",
    "for command in range(0, int(input())):\n",
    "    key, m = input().strip().split()\n",
    "    d[key] += int(m)\n",
    "\n",
    "print(d['восток'] - d['запад'], d['север'] - d['юг'])"
   ]
  },
  {
   "cell_type": "code",
   "execution_count": null,
   "metadata": {},
   "outputs": [],
   "source": [
    "#You have improved the best code complexity for this step, your score is 8.54 (less is better).\n",
    "coords = {'север': 0, 'юг': 0, 'запад': 0, 'восток': 0}\n",
    "\n",
    "for x in range(int(input())):\n",
    "    direction, value = input().split()\n",
    "    coords[direction] += int(value)\n",
    "\n",
    "print(coords['восток']-coords['запад'], coords['север']-coords['юг'])"
   ]
  },
  {
   "cell_type": "code",
   "execution_count": null,
   "metadata": {},
   "outputs": [],
   "source": [
    "#Your code complexity score is 11.18 (best for this step is 8.54).\n",
    "# put your python code here\n",
    "d = {'север': [0, 1], 'юг': [0, -1], 'восток': [1, 0], 'запад': [-1, 0]}\n",
    "x, y = 0, 0\n",
    "for i in range(int(input())):\n",
    "    s = [i for i in input().split()]\n",
    "    x += int(s[1]) * d[s[0]][0]\n",
    "    y += int(s[1]) * d[s[0]][1]\n",
    "print(x, y)"
   ]
  },
  {
   "cell_type": "code",
   "execution_count": null,
   "metadata": {},
   "outputs": [],
   "source": [
    "#Your code complexity score is 8.66 (best for this step is 8.25).\n",
    "k=int(input())\n",
    "d={\"север\":0,\"юг\":0,\"запад\":0,\"восток\":0}\n",
    "while k>0:\n",
    "    st=input().split(\" \")\n",
    "    d[st[0]]+=int(st[1])\n",
    "    k-=1\n",
    "print(d[\"восток\"]-d[\"запад\"],d[\"север\"]-d[\"юг\"])"
   ]
  },
  {
   "cell_type": "code",
   "execution_count": 1,
   "metadata": {},
   "outputs": [
    {
     "name": "stdout",
     "output_type": "stream",
     "text": [
      "1 122.6\n",
      "2 129.8\n",
      "3 135.11111111111111\n",
      "4 141.16666666666666\n",
      "5 145.125\n",
      "6 153.875\n",
      "7 161.125\n",
      "8 164.22222222222223\n",
      "9 170.5\n",
      "10 168.0\n",
      "11 174.28571428571428\n"
     ]
    }
   ],
   "source": [
    "res = {i:[] for i in range(1, 12)}\n",
    "with open (r'C:\\Users\\loshkarev-vm\\Desktop\\dataset_3380_5.txt', 'r', encoding='utf-8') as growth:\n",
    "    for line in growth:\n",
    "        line = line.split()\n",
    "        res[int(line[0])].append(int(line[2]))\n",
    "    for k in res.keys():\n",
    "        s = 0\n",
    "        x = res[k]\n",
    "        srRost = 0\n",
    "        if x != []:\n",
    "            for i in range(len(x)):\n",
    "                s += x[i]\n",
    "            print(k, s / len(x))\n",
    "        else:\n",
    "            print(k, '-')"
   ]
  },
  {
   "cell_type": "code",
   "execution_count": 6,
   "metadata": {},
   "outputs": [
    {
     "data": {
      "text/plain": [
       "{1: [], 2: [], 3: [], 4: [], 5: [], 6: [], 7: [], 8: [], 9: [], 10: [], 11: []}"
      ]
     },
     "execution_count": 6,
     "metadata": {},
     "output_type": "execute_result"
    }
   ],
   "source": [
    "#1\n",
    "d = {i: [0,0] for i in range(1,12)}     #классы\n",
    "for line in open('dataset_3380_5.txt'): #читаем файл\n",
    "    a,b,c=line.split('\\t')                #разбиваем инфо в строке\n",
    "    d[int(a)][0]+=1                       #к-во детей по классу в статистике\n",
    "    d[int(a)][1]+=int(c)                  #сумма РОСТ по классу\n",
    "for i in range(1,12): print(i,(d[i][1]/d[i][0] if d[i][0]>0 else '-')) #результат по классам"
   ]
  },
  {
   "cell_type": "code",
   "execution_count": 38,
   "metadata": {},
   "outputs": [
    {
     "data": {
      "text/plain": [
       "<_io.TextIOWrapper name='C:\\\\Users\\\\loshkarev-vm\\\\Desktop\\\\dataset_3380_5.txt' mode='r' encoding='utf-8'>"
      ]
     },
     "execution_count": 38,
     "metadata": {},
     "output_type": "execute_result"
    }
   ],
   "source": [
    "#2\n",
    "d = {k: [0, 0] for k in range(1, 12)}\n",
    "\n",
    "with open('dataset_3380_5.txt', encoding='utf-8') as f:\n",
    "    for s in f:\n",
    "        s = [float(x) for x in s.split()[0::2]]\n",
    "        d[s[0]][0] += s[1]\n",
    "        d[s[0]][1] += 1\n",
    "\n",
    "for i in d:\n",
    "    print(f\"{i} -\") if d[i] == [0, 0] else print(f\"{i} {d[i][0] / d[i][1]}\")"
   ]
  },
  {
   "cell_type": "code",
   "execution_count": 7,
   "metadata": {},
   "outputs": [
    {
     "data": {
      "text/plain": [
       "[]"
      ]
     },
     "execution_count": 7,
     "metadata": {},
     "output_type": "execute_result"
    }
   ],
   "source": [
    "#3\n",
    "d = {i:[0,0] for i in range(1,12)}\n",
    "for line in open ('dataset_3380_5.txt'):\n",
    "    line = [int(i) for i in line.split('\\t')[::2]]\n",
    "    d[line[0]] = [d[line[0]][0] + int(line[1]), d[line[0]][1] + 1]\n",
    "for key in d:\n",
    "    print(key,'-' if d[key][0] == 0 else d[key][0]/d[key][1])"
   ]
  },
  {
   "cell_type": "code",
   "execution_count": 4,
   "metadata": {},
   "outputs": [],
   "source": [
    "from numpy import *"
   ]
  },
  {
   "cell_type": "code",
   "execution_count": 3,
   "metadata": {},
   "outputs": [],
   "source": [
    "a = array([1,2,3])"
   ]
  },
  {
   "cell_type": "code",
   "execution_count": 5,
   "metadata": {},
   "outputs": [
    {
     "name": "stdout",
     "output_type": "stream",
     "text": [
      "[1 2 3]\n"
     ]
    },
    {
     "data": {
      "text/plain": [
       "array([1, 2, 3])"
      ]
     },
     "execution_count": 5,
     "metadata": {},
     "output_type": "execute_result"
    }
   ],
   "source": [
    "print(a)\n",
    "a"
   ]
  },
  {
   "cell_type": "code",
   "execution_count": 6,
   "metadata": {},
   "outputs": [
    {
     "data": {
      "text/plain": [
       "1"
      ]
     },
     "execution_count": 6,
     "metadata": {},
     "output_type": "execute_result"
    }
   ],
   "source": [
    "a.ndim"
   ]
  },
  {
   "cell_type": "code",
   "execution_count": 7,
   "metadata": {},
   "outputs": [
    {
     "data": {
      "text/plain": [
       "(3,)"
      ]
     },
     "execution_count": 7,
     "metadata": {},
     "output_type": "execute_result"
    }
   ],
   "source": [
    "a.shape"
   ]
  },
  {
   "cell_type": "code",
   "execution_count": 5,
   "metadata": {},
   "outputs": [],
   "source": [
    "b = array([(1.5,3,5),(2,4.5,6),(6,7,10)])"
   ]
  },
  {
   "cell_type": "code",
   "execution_count": 6,
   "metadata": {},
   "outputs": [
    {
     "data": {
      "text/plain": [
       "array([[ 1.5,  3. ,  5. ],\n",
       "       [ 2. ,  4.5,  6. ],\n",
       "       [ 6. ,  7. , 10. ]])"
      ]
     },
     "execution_count": 6,
     "metadata": {},
     "output_type": "execute_result"
    }
   ],
   "source": [
    "b"
   ]
  },
  {
   "cell_type": "code",
   "execution_count": 7,
   "metadata": {},
   "outputs": [
    {
     "data": {
      "text/plain": [
       "2"
      ]
     },
     "execution_count": 7,
     "metadata": {},
     "output_type": "execute_result"
    }
   ],
   "source": [
    "b.ndim"
   ]
  },
  {
   "cell_type": "code",
   "execution_count": 10,
   "metadata": {},
   "outputs": [
    {
     "data": {
      "text/plain": [
       "(3, 3)"
      ]
     },
     "execution_count": 10,
     "metadata": {},
     "output_type": "execute_result"
    }
   ],
   "source": [
    "b.shape"
   ]
  },
  {
   "cell_type": "code",
   "execution_count": 11,
   "metadata": {},
   "outputs": [
    {
     "data": {
      "text/plain": [
       "9"
      ]
     },
     "execution_count": 11,
     "metadata": {},
     "output_type": "execute_result"
    }
   ],
   "source": [
    "b.size"
   ]
  },
  {
   "cell_type": "code",
   "execution_count": 13,
   "metadata": {},
   "outputs": [],
   "source": [
    "z = zeros([3,3])\n",
    "           "
   ]
  },
  {
   "cell_type": "code",
   "execution_count": 14,
   "metadata": {},
   "outputs": [
    {
     "data": {
      "text/plain": [
       "array([[0., 0., 0.],\n",
       "       [0., 0., 0.],\n",
       "       [0., 0., 0.]])"
      ]
     },
     "execution_count": 14,
     "metadata": {},
     "output_type": "execute_result"
    }
   ],
   "source": [
    "z"
   ]
  },
  {
   "cell_type": "code",
   "execution_count": 15,
   "metadata": {},
   "outputs": [
    {
     "data": {
      "text/plain": [
       "array([1, 3, 5, 7, 9])"
      ]
     },
     "execution_count": 15,
     "metadata": {},
     "output_type": "execute_result"
    }
   ],
   "source": [
    "arange(1,10,2)"
   ]
  },
  {
   "cell_type": "code",
   "execution_count": 18,
   "metadata": {},
   "outputs": [
    {
     "data": {
      "text/plain": [
       "array([0.  , 1.25, 2.5 , 3.75, 5.  ])"
      ]
     },
     "execution_count": 18,
     "metadata": {},
     "output_type": "execute_result"
    }
   ],
   "source": [
    "linspace(0,5,5)"
   ]
  },
  {
   "cell_type": "code",
   "execution_count": 2,
   "metadata": {},
   "outputs": [],
   "source": [
    "from pylab import *"
   ]
  },
  {
   "cell_type": "code",
   "execution_count": 4,
   "metadata": {},
   "outputs": [
    {
     "name": "stdout",
     "output_type": "stream",
     "text": [
      "[0.         0.55555556 1.11111111 1.66666667 2.22222222 2.77777778\n",
      " 3.33333333 3.88888889 4.44444444 5.        ]\n",
      "[ 0.          0.30864198  1.2345679   2.77777778  4.9382716   7.71604938\n",
      " 11.11111111 15.12345679 19.75308642 25.        ]\n"
     ]
    }
   ],
   "source": [
    "x = linspace(0, 5, 10)\n",
    "y = x ** 2\n",
    "print(x)\n",
    "print(y)"
   ]
  },
  {
   "cell_type": "code",
   "execution_count": 5,
   "metadata": {},
   "outputs": [
    {
     "data": {
      "image/png": "[encoded data removed]",
      "text/plain": [
       "<Figure size 432x288 with 1 Axes>"
      ]
     },
     "metadata": {
      "needs_background": "light"
     },
     "output_type": "display_data"
    }
   ],
   "source": [
    "figure()\n",
    "plot(x, y, 'r')\n",
    "xlabel('x')\n",
    "ylabel('y')\n",
    "title('title')\n",
    "show()"
   ]
  },
  {
   "cell_type": "code",
   "execution_count": 6,
   "metadata": {},
   "outputs": [
    {
     "data": {
      "text/plain": [
       "Text(0.5, 1.0, 'title')"
      ]
     },
     "execution_count": 6,
     "metadata": {},
     "output_type": "execute_result"
    },
    {
     "data": {
      "image/png": "[encoded data removed]",
      "text/plain": [
       "<Figure size 432x288 with 1 Axes>"
      ]
     },
     "metadata": {
      "needs_background": "light"
     },
     "output_type": "display_data"
    }
   ],
   "source": [
    "fig = plt.figure()\n",
    "axes = fig.add_axes([0.1,0.1,0.8,0.8])\n",
    "axes.plot(x, y, 'r')\n",
    "axes.set_xlabel('x')\n",
    "axes.set_ylabel('y')\n",
    "axes.set_title('title')"
   ]
  },
  {
   "cell_type": "code",
   "execution_count": 7,
   "metadata": {},
   "outputs": [
    {
     "data": {
      "text/plain": [
       "Text(0.5, 1.0, 'inner_title')"
      ]
     },
     "execution_count": 7,
     "metadata": {},
     "output_type": "execute_result"
    },
    {
     "data": {
      "image/png": "[encoded data removed]",
      "text/plain": [
       "<Figure size 432x288 with 2 Axes>"
      ]
     },
     "metadata": {
      "needs_background": "light"
     },
     "output_type": "display_data"
    }
   ],
   "source": [
    "fig = plt.figure()\n",
    "axes1 = fig.add_axes([0.1, 0.1, 0.8, 0.8])\n",
    "axes2 = fig.add_axes([0.2, 0.5, 0.4, 0.3])\n",
    "\n",
    "axes1.plot(x, y, 'r') # цвет графика (красный)\n",
    "axes1.set_xlabel('x')\n",
    "axes1.set_ylabel('y')\n",
    "axes1.set_title('title')\n",
    "\n",
    "axes2.plot(y, x, 'g') # цвет графика (зеленый)\n",
    "axes2.set_xlabel('y')\n",
    "axes2.set_ylabel('x')\n",
    "axes2.set_title('inner_title')"
   ]
  },
  {
   "cell_type": "code",
   "execution_count": 8,
   "metadata": {},
   "outputs": [
    {
     "data": {
      "image/png": "[encoded data removed]",
      "text/plain": [
       "<Figure size 432x288 with 2 Axes>"
      ]
     },
     "metadata": {
      "needs_background": "light"
     },
     "output_type": "display_data"
    }
   ],
   "source": [
    "fig, axes = plt.subplots(nrows = 1, ncols = 2)\n",
    "for ax in axes:\n",
    "    ax.plot(x, y , 'r')\n",
    "    ax.set_xlabel('x')\n",
    "    ax.set_ylabel('y')\n",
    "    ax.set_title('title')\n",
    "fig.tight_layout()"
   ]
  },
  {
   "cell_type": "code",
   "execution_count": null,
   "metadata": {},
   "outputs": [],
   "source": []
  }
 ],
 "metadata": {
  "kernelspec": {
   "display_name": "Python 3",
   "language": "python",
   "name": "python3"
  },
  "language_info": {
   "codemirror_mode": {
    "name": "ipython",
    "version": 3
   },
   "file_extension": ".py",
   "mimetype": "text/x-python",
   "name": "python",
   "nbconvert_exporter": "python",
   "pygments_lexer": "ipython3",
   "version": "3.7.0"
  }
 },
 "nbformat": 4,
 "nbformat_minor": 2
}
