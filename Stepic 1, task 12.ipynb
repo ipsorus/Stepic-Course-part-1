{
 "cells": [
  {
   "cell_type": "markdown",
   "metadata": {},
   "source": [
    "Напишите программу, которая считывает целые числа с консоли по одному числу в строке.\n",
    "\n",
    "Для каждого введённого числа проверить:\n",
    "если число меньше 10, то пропускаем это число;\n",
    "если число больше 100, то прекращаем считывать числа;\n",
    "в остальных случаях вывести это число обратно на консоль в отдельной строке.\n",
    "\n",
    "Sample Input 1:\n",
    "\n",
    "12\n",
    "4\n",
    "2\n",
    "58\n",
    "112\n",
    "Sample Output 1:\n",
    "\n",
    "12\n",
    "58\n",
    "Sample Input 2:\n",
    "\n",
    "101\n",
    "Sample Output 2:\n",
    "\n",
    "Sample Input 3:\n",
    "\n",
    "1\n",
    "2\n",
    "102\n",
    "Sample Output 3:"
   ]
  },
  {
   "cell_type": "code",
   "execution_count": null,
   "metadata": {},
   "outputs": [],
   "source": [
    "i = 1\n",
    "while i != 0:\n",
    "    x = int(input())\n",
    "    if x < 10:\n",
    "        continue\n",
    "    if x > 100:\n",
    "        break\n",
    "    else:\n",
    "        print (x)"
   ]
  }
 ],
 "metadata": {
  "kernelspec": {
   "display_name": "Python 3",
   "language": "python",
   "name": "python3"
  },
  "language_info": {
   "codemirror_mode": {
    "name": "ipython",
    "version": 3
   },
   "file_extension": ".py",
   "mimetype": "text/x-python",
   "name": "python",
   "nbconvert_exporter": "python",
   "pygments_lexer": "ipython3",
   "version": "3.7.0"
  }
 },
 "nbformat": 4,
 "nbformat_minor": 2
}
