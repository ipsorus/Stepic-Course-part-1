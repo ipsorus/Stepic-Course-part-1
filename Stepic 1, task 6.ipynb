{
 "cells": [
  {
   "cell_type": "markdown",
   "metadata": {},
   "source": [
    "Жители страны Малевии часто экспериментируют с планировкой комнат. Комнаты бывают треугольные, прямоугольные и круглые. Чтобы быстро вычислять жилплощадь, требуется написать программу, на вход которой подаётся тип фигуры комнаты и соответствующие параметры, которая бы выводила площадь получившейся комнаты.\n",
    "Для числа π в стране Малевии используют значение 3.14.\n",
    "\n",
    "Формат ввода, который используют Малевийцы:\n",
    "\n",
    "треугольник\n",
    "a\n",
    "b\n",
    "c\n",
    "где a, b и c — длины сторон треугольника\n",
    "\n",
    "прямоугольник\n",
    "a\n",
    "b\n",
    "где a и b — длины сторон прямоугольника\n",
    "\n",
    "круг\n",
    "r\n",
    "где r — радиус окружности\n",
    "\n",
    "Sample Input 1:\n",
    "\n",
    "прямоугольник\n",
    "4\n",
    "10\n",
    "Sample Output 1:\n",
    "\n",
    "40.0\n",
    "Sample Input 2:\n",
    "\n",
    "круг\n",
    "5\n",
    "Sample Output 2:\n",
    "\n",
    "78.5\n",
    "Sample Input 3:\n",
    "\n",
    "треугольник\n",
    "3\n",
    "4\n",
    "5\n",
    "Sample Output 3:\n",
    "\n",
    "6.0"
   ]
  },
  {
   "cell_type": "code",
   "execution_count": null,
   "metadata": {},
   "outputs": [],
   "source": [
    "pi = 3.14\n",
    "f = input()\n",
    "if f == 'треугольник':\n",
    "    a = int(input())\n",
    "    b = int(input())\n",
    "    c = int(input())\n",
    "    p = (a+b+c)/2\n",
    "    S = (p*(p-a)*(p-b)*(p-c))**0.5\n",
    "    print(float(S))\n",
    "elif f == 'круг':\n",
    "    r = int(input())\n",
    "    print(float(pi*(r**2)))\n",
    "elif f == \"прямоугольник\":\n",
    "    a = int(input())\n",
    "    b = int(input())\n",
    "    print(float(a*b))"
   ]
  }
 ],
 "metadata": {
  "kernelspec": {
   "display_name": "Python 3",
   "language": "python",
   "name": "python3"
  },
  "language_info": {
   "codemirror_mode": {
    "name": "ipython",
    "version": 3
   },
   "file_extension": ".py",
   "mimetype": "text/x-python",
   "name": "python",
   "nbconvert_exporter": "python",
   "pygments_lexer": "ipython3",
   "version": "3.7.0"
  }
 },
 "nbformat": 4,
 "nbformat_minor": 2
}
