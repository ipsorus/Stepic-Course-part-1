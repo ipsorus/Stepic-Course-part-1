{
 "cells": [
  {
   "cell_type": "markdown",
   "metadata": {},
   "source": [
    "Напишите программу, которая получает на вход три целых числа, по одному числу в строке, и выводит на консоль в три строки сначала максимальное, потом минимальное, после чего оставшееся число.\n",
    "\n",
    "На ввод могут подаваться и повторяющиеся числа.\n",
    "\n",
    "Sample Input 1:\n",
    "\n",
    "8\n",
    "2\n",
    "14\n",
    "Sample Output 1:\n",
    "\n",
    "14\n",
    "2\n",
    "8\n",
    "Sample Input 2:\n",
    "\n",
    "23\n",
    "23\n",
    "21\n",
    "Sample Output 2:\n",
    "\n",
    "23\n",
    "21\n",
    "23"
   ]
  },
  {
   "cell_type": "code",
   "execution_count": null,
   "metadata": {},
   "outputs": [],
   "source": [
    "a = int(input())\n",
    "b = int(input())\n",
    "c = int(input())\n",
    "\n",
    "if a >= b and a >= c:\n",
    "    if b >= c:\n",
    "        print(a)\n",
    "        print(c)\n",
    "        print(b)\n",
    "    else:\n",
    "        print(a)\n",
    "        print(b)\n",
    "        print(c)\n",
    "        \n",
    "elif b >= a and b >= c:\n",
    "    if a >= c:\n",
    "        print(b)\n",
    "        print(c)\n",
    "        print(a)\n",
    "    else:\n",
    "        print(b)\n",
    "        print(a)\n",
    "        print(c)\n",
    "elif c >= a and c >= b:\n",
    "    if a >= b:\n",
    "        print(c)\n",
    "        print(b)\n",
    "        print(a)\n",
    "    else:\n",
    "        print(c)\n",
    "        print(a)\n",
    "        print(b)"
   ]
  }
 ],
 "metadata": {
  "kernelspec": {
   "display_name": "Python 3",
   "language": "python",
   "name": "python3"
  },
  "language_info": {
   "codemirror_mode": {
    "name": "ipython",
    "version": 3
   },
   "file_extension": ".py",
   "mimetype": "text/x-python",
   "name": "python",
   "nbconvert_exporter": "python",
   "pygments_lexer": "ipython3",
   "version": "3.7.0"
  }
 },
 "nbformat": 4,
 "nbformat_minor": 2
}
