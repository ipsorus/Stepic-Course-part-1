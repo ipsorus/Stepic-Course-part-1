{
 "cells": [
  {
   "cell_type": "markdown",
   "metadata": {},
   "source": [
    "Напишите программу, которая принимает на вход список чисел в одной строке и выводит на экран в одну строку значения, которые повторяются в нём более одного раза.\n",
    "\n",
    "Для решения задачи может пригодиться метод sort списка.\n",
    "\n",
    "Выводимые числа не должны повторяться, порядок их вывода может быть произвольным.\n",
    "\n",
    "Sample Input 1:\n",
    "\n",
    "4 8 0 3 4 2 0 3\n",
    "Sample Output 1:\n",
    "\n",
    "0 3 4\n",
    "Sample Input 2:\n",
    "\n",
    "10\n",
    "Sample Output 2:\n",
    "\n",
    "Sample Input 3:\n",
    "\n",
    "1 1 2 2 3 3\n",
    "Sample Output 3:\n",
    "\n",
    "1 2 3\n",
    "Sample Input 4:\n",
    "\n",
    "1 1 1 1 1 2 2 2\n",
    "Sample Output 4:\n",
    "\n",
    "1 2"
   ]
  },
  {
   "cell_type": "code",
   "execution_count": null,
   "metadata": {},
   "outputs": [],
   "source": [
    "a, b = input().split(), []\n",
    "a.sort()\n",
    "for i in a:\n",
    "    if a.count(i) > 1:\n",
    "        b.append(i)\n",
    "for k in range(len(b)):\n",
    "    s = b.index(b[k])\n",
    "    while k != s:\n",
    "        break\n",
    "    else:\n",
    "        print(b[k], end=' ')"
   ]
  }
 ],
 "metadata": {
  "kernelspec": {
   "display_name": "Python 3",
   "language": "python",
   "name": "python3"
  },
  "language_info": {
   "codemirror_mode": {
    "name": "ipython",
    "version": 3
   },
   "file_extension": ".py",
   "mimetype": "text/x-python",
   "name": "python",
   "nbconvert_exporter": "python",
   "pygments_lexer": "ipython3",
   "version": "3.7.0"
  }
 },
 "nbformat": 4,
 "nbformat_minor": 2
}
