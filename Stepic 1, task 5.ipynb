{
 "cells": [
  {
   "cell_type": "markdown",
   "metadata": {},
   "source": [
    "Напишите простой калькулятор, который считывает с пользовательского ввода три строки: первое число, второе число и операцию, после чего применяет операцию к введённым числам (\"первое число\" \"операция\" \"второе число\") и выводит результат на экран.\n",
    "\n",
    "Поддерживаемые операции: +, -, /, *, mod, pow, div, где \n",
    "mod — это взятие остатка от деления, \n",
    "pow — возведение в степень, \n",
    "div — целочисленное деление.\n",
    "\n",
    "Если выполняется деление и второе число равно 0, необходимо выводить строку \"Деление на 0!\".\n",
    "\n",
    "Обратите внимание, что на вход программе приходят вещественные числа.\n",
    "\n",
    "Sample Input 1:\n",
    "\n",
    "5.0\n",
    "0.0\n",
    "mod\n",
    "Sample Output 1:\n",
    "\n",
    "Деление на 0!\n",
    "Sample Input 2:\n",
    "\n",
    "-12.0\n",
    "-8.0\n",
    "*\n",
    "Sample Output 2:\n",
    "\n",
    "96.0\n",
    "Sample Input 3:\n",
    "\n",
    "5.0\n",
    "10.0\n",
    "/\n",
    "Sample Output 3:\n",
    "\n",
    "0.5"
   ]
  },
  {
   "cell_type": "code",
   "execution_count": null,
   "metadata": {},
   "outputs": [],
   "source": [
    "a=float(input())\n",
    "b=float(input())\n",
    "x=str(input())\n",
    "if b==0 and x==\"mod\": \n",
    "    print ('Деление на 0!')\n",
    "elif b==0 and x==\"/\": \n",
    "    print ('Деление на 0!')\n",
    "elif b==0 and x==\"div\": \n",
    "    print ('Деление на 0!')\n",
    "else:\n",
    "    if x =='+': print (a+b)\n",
    "    elif x =='-': print (a-b)\n",
    "    elif x =='/': print (a/b)\n",
    "    elif x =='*': print (a*b)\n",
    "    elif x =='mod': print (a%b)\n",
    "    elif x =='pow': print (a**b)\n",
    "    elif x =='div': print (a//b)"
   ]
  }
 ],
 "metadata": {
  "kernelspec": {
   "display_name": "Python 3",
   "language": "python",
   "name": "python3"
  },
  "language_info": {
   "codemirror_mode": {
    "name": "ipython",
    "version": 3
   },
   "file_extension": ".py",
   "mimetype": "text/x-python",
   "name": "python",
   "nbconvert_exporter": "python",
   "pygments_lexer": "ipython3",
   "version": "3.7.0"
  }
 },
 "nbformat": 4,
 "nbformat_minor": 2
}
