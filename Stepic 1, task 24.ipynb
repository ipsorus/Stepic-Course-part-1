{
 "cells": [
  {
   "cell_type": "markdown",
   "metadata": {},
   "source": [
    "Дополнительная\n",
    "Выведите таблицу размером n×n, заполненную числами от 1 до n2 по спирали, выходящей из левого верхнего угла и закрученной по часовой стрелке, как показано в примере (здесь n=5):\n",
    "Sample Input:\n",
    "\n",
    "5\n",
    "Sample Output:\n",
    "\n",
    "1 2 3 4 5\n",
    "16 17 18 19 6\n",
    "15 24 25 20 7\n",
    "14 23 22 21 8\n",
    "13 12 11 10 9"
   ]
  },
  {
   "cell_type": "code",
   "execution_count": null,
   "metadata": {},
   "outputs": [],
   "source": [
    "n = int(input())\n",
    "table = [[0 for x in range(n)] for y in range(n)]\n",
    "w = n\n",
    "offs = 0\n",
    "d = 0\n",
    "while w >= 1:\n",
    "    h = w - 2\n",
    "    for c in range(0, w):\n",
    "        idx = n - c - offs - 1\n",
    "        table[offs][offs + c] = c + d + 1\n",
    "        table[n - offs - 1][idx] = c + d + 2 * h + 3\n",
    "        if c in range(1, w - 1):\n",
    "            table[offs + c][n - offs - 1] = w + c + d\n",
    "            table[idx][offs] = w + c + d + 2 * h + 2\n",
    "    d += 2 * w + 2 * h\n",
    "    w -= 2\n",
    "    offs += 1\n",
    "for i in range(len(table)):\n",
    "    for j in range(len(table[0])):\n",
    "        print (table[i][j], end=' ')\n",
    "    print()"
   ]
  }
 ],
 "metadata": {
  "kernelspec": {
   "display_name": "Python 3",
   "language": "python",
   "name": "python3"
  },
  "language_info": {
   "codemirror_mode": {
    "name": "ipython",
    "version": 3
   },
   "file_extension": ".py",
   "mimetype": "text/x-python",
   "name": "python",
   "nbconvert_exporter": "python",
   "pygments_lexer": "ipython3",
   "version": "3.7.0"
  }
 },
 "nbformat": 4,
 "nbformat_minor": 2
}
