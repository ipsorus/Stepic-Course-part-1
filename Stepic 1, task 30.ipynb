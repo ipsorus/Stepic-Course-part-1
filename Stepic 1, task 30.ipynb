{
 "cells": [
  {
   "cell_type": "markdown",
   "metadata": {},
   "source": [
    "На прошлой неделе мы сжимали строки, используя кодирование повторов. Теперь нашей задачей будет восстановление исходной строки обратно.\n",
    "\n",
    "Напишите программу, которая считывает из файла строку, соответствующую тексту, сжатому с помощью кодирования повторов, и производит обратную операцию, получая исходный текст.\n",
    "\n",
    "Запишите полученный текст в файл и прикрепите его, как ответ на это задание.\n",
    "\n",
    "В исходном тексте не встречаются цифры, так что код однозначно интерпретируем.\n",
    "\n",
    "Примечание. Это первое задание типа Dataset Quiz. В таких заданиях после нажатия \"Start Quiz\" у вас появляется ссылка \"download your dataset\". Используйте эту ссылку для того, чтобы загрузить файл со входными данными к себе на компьютер. Запустите вашу программу, используя этот файл в качестве входных данных. Выходной файл, который при этом у вас получится, надо отправить в качестве ответа на эту задачу. \n",
    "\n",
    "Sample Input:\n",
    "\n",
    "a3b4c2e10b1\n",
    "Sample Output:\n",
    "\n",
    "aaabbbbcceeeeeeeeeeb\n",
    "У вас есть неограниченное число попыток.\n",
    "Время одной попытки: 5 mins"
   ]
  },
  {
   "cell_type": "code",
   "execution_count": 3,
   "metadata": {},
   "outputs": [],
   "source": [
    "with open(r'C:\\Users\\loshkarev-vm\\Desktop\\dataset_3363_2.txt', 'r', encoding='utf-8') as k:\n",
    "    s = k.readline().strip()\n",
    "    x,y,j,l = [],[],0,''\n",
    "    for i in range(0, len(s)):\n",
    "        if s[i].isalpha():\n",
    "            y.append(s[i])\n",
    "    for i in range(len(s)-1,-1,-1):    \n",
    "        u = i-j\n",
    "        if u <= 0:\n",
    "            x.reverse()\n",
    "            break\n",
    "        if s[u].isdigit():\n",
    "            if s[u-1].isdigit() and s[u-2].isalpha():\n",
    "                x.append(int(str(s[u-1])+str(s[u])))\n",
    "                j+=2\n",
    "            elif s[u-1].isalpha():\n",
    "                x.append(int(str(s[u])))\n",
    "    for i in range(0, len(x)):\n",
    "        z = y[i]*x[i]\n",
    "        l += z\n",
    "with open(r'C:\\Users\\loshkarev-vm\\Desktop\\dataset_3363_21.txt', 'w') as out:\n",
    "    out.write(str(l))"
   ]
  },
  {
   "cell_type": "code",
   "execution_count": null,
   "metadata": {},
   "outputs": [],
   "source": []
  }
 ],
 "metadata": {
  "kernelspec": {
   "display_name": "Python 3",
   "language": "python",
   "name": "python3"
  },
  "language_info": {
   "codemirror_mode": {
    "name": "ipython",
    "version": 3
   },
   "file_extension": ".py",
   "mimetype": "text/x-python",
   "name": "python",
   "nbconvert_exporter": "python",
   "pygments_lexer": "ipython3",
   "version": "3.7.0"
  }
 },
 "nbformat": 4,
 "nbformat_minor": 2
}
