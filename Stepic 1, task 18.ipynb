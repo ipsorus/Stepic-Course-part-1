{
 "cells": [
  {
   "cell_type": "markdown",
   "metadata": {},
   "source": [
    "Напишите программу, на вход которой подаётся список чисел одной строкой. Программа должна для каждого элемента этого списка вывести сумму двух его соседей. Для элементов списка, являющихся крайними, одним из соседей считается элемент, находящий на противоположном конце этого списка. Например, если на вход подаётся список \"1 3 5 6 10\", то на выход ожидается список \"13 6 9 15 7\" (без кавычек).\n",
    "\n",
    "Если на вход пришло только одно число, надо вывести его же.\n",
    "\n",
    "Вывод должен содержать одну строку с числами нового списка, разделёнными пробелом.\n",
    "\n",
    "Sample Input 1:\n",
    "\n",
    "1 3 5 6 10\n",
    "Sample Output 1:\n",
    "\n",
    "13 6 9 15 7\n",
    "Sample Input 2:\n",
    "\n",
    "10\n",
    "Sample Output 2:\n",
    "\n",
    "10"
   ]
  },
  {
   "cell_type": "code",
   "execution_count": null,
   "metadata": {},
   "outputs": [],
   "source": [
    "a = [int(i) for i in input().split()]\n",
    "s = 0\n",
    "for j in range(len(a)):\n",
    "    if len(a) == 1:\n",
    "        print(a[j])\n",
    "        break\n",
    "    elif j < len(a)-1:\n",
    "        print(a[j-1] + a[j+1], end=' ')\n",
    "    else:\n",
    "        print(a[j-1] + a[0], end=' ')"
   ]
  }
 ],
 "metadata": {
  "kernelspec": {
   "display_name": "Python 3",
   "language": "python",
   "name": "python3"
  },
  "language_info": {
   "codemirror_mode": {
    "name": "ipython",
    "version": 3
   },
   "file_extension": ".py",
   "mimetype": "text/x-python",
   "name": "python",
   "nbconvert_exporter": "python",
   "pygments_lexer": "ipython3",
   "version": "3.7.0"
  }
 },
 "nbformat": 4,
 "nbformat_minor": 2
}
