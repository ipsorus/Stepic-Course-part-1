{
 "cells": [
  {
   "cell_type": "markdown",
   "metadata": {},
   "source": [
    "Напишите программу, которая считывает список чисел \\( lst \\) из первой строки и число \\( x \\) из второй строки, которая выводит все позиции, на которых встречается число \\( x \\) в переданном списке \\( lst \\).\n",
    "\n",
    "Позиции нумеруются с нуля, если число \\( x \\) не встречается в списке, вывести строку \"Отсутствует\" (без кавычек, с большой буквы).\n",
    "\n",
    "Позиции должны быть выведены в одну строку, по возрастанию абсолютного значения.\n",
    "\n",
    "Sample Input 1:\n",
    "\n",
    "5 8 2 7 8 8 2 4\n",
    "8\n",
    "Sample Output 1:\n",
    "\n",
    "1 4 5\n",
    "Sample Input 2:\n",
    "\n",
    "5 8 2 7 8 8 2 4\n",
    "10\n",
    "Sample Output 2:\n",
    "\n",
    "Отсутствует"
   ]
  },
  {
   "cell_type": "code",
   "execution_count": null,
   "metadata": {},
   "outputs": [],
   "source": [
    "lst = [int(i) for i in input().split()]\n",
    "x = int(input())\n",
    "for i in range(len(lst)):\n",
    "    if lst[i] == x:\n",
    "        print(i, end=' ')\n",
    "    elif x not in lst:\n",
    "        print('Отсутствует')\n",
    "        break"
   ]
  }
 ],
 "metadata": {
  "kernelspec": {
   "display_name": "Python 3",
   "language": "python",
   "name": "python3"
  },
  "language_info": {
   "codemirror_mode": {
    "name": "ipython",
    "version": 3
   },
   "file_extension": ".py",
   "mimetype": "text/x-python",
   "name": "python",
   "nbconvert_exporter": "python",
   "pygments_lexer": "ipython3",
   "version": "3.7.0"
  }
 },
 "nbformat": 4,
 "nbformat_minor": 2
}
