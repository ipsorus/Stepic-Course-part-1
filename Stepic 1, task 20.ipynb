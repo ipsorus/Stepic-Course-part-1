{
 "cells": [
  {
   "cell_type": "markdown",
   "metadata": {},
   "source": [
    "Напишите программу, которая считывает с консоли числа (по одному в строке) до тех пор, пока сумма введённых чисел не будет равна 0 и сразу после этого выводит сумму квадратов всех считанных чисел.\n",
    "\n",
    "Гарантируется, что в какой-то момент сумма введённых чисел окажется равной 0, после этого считывание продолжать не нужно.\n",
    "\n",
    "В примере мы считываем числа 1, -3, 5, -6, -10, 13; в этот момент замечаем, что сумма этих чисел равна нулю и выводим сумму их квадратов, не обращая внимания на то, что остались ещё не прочитанные значения.﻿\n",
    "\n",
    "Sample Input:\n",
    "\n",
    "1\n",
    "-3\n",
    "5\n",
    "-6\n",
    "-10\n",
    "13\n",
    "4\n",
    "-8\n",
    "Sample Output:\n",
    "\n",
    "340"
   ]
  },
  {
   "cell_type": "code",
   "execution_count": null,
   "metadata": {},
   "outputs": [],
   "source": [
    "s, res = 0, 0\n",
    "x = []\n",
    "while True:\n",
    "    b = int(input())\n",
    "    s += b\n",
    "    x.append(b)\n",
    "    if s == 0:\n",
    "        break\n",
    "for i in x:\n",
    "    res += i ** 2\n",
    "print(res)"
   ]
  }
 ],
 "metadata": {
  "kernelspec": {
   "display_name": "Python 3",
   "language": "python",
   "name": "python3"
  },
  "language_info": {
   "codemirror_mode": {
    "name": "ipython",
    "version": 3
   },
   "file_extension": ".py",
   "mimetype": "text/x-python",
   "name": "python",
   "nbconvert_exporter": "python",
   "pygments_lexer": "ipython3",
   "version": "3.7.0"
  }
 },
 "nbformat": 4,
 "nbformat_minor": 2
}
